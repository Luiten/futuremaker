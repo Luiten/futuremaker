{
 "cells": [
  {
   "cell_type": "code",
   "execution_count": 10,
   "metadata": {
    "collapsed": true,
    "pycharm": {
     "is_executing": false
    }
   },
   "outputs": [
    {
     "name": "stdout",
     "text": [
      "                         open      high       low     close       volume\ntime                                                                    \n2018-01-01 00:00:00  13715.65  13715.65  13400.01  13529.01   443.356199\n2018-01-01 01:00:00  13528.99  13595.89  13155.38  13203.06   383.697006\n2018-01-01 02:00:00  13203.00  13418.43  13200.00  13330.18   429.064572\n2018-01-01 03:00:00  13330.26  13611.27  13290.00  13410.03   420.087030\n2018-01-01 04:00:00  13434.98  13623.29  13322.15  13601.01   340.807329\n...                       ...       ...       ...       ...          ...\n2020-01-17 00:00:00   8720.15   8743.99   8672.44   8690.31  1988.852577\n2020-01-17 01:00:00   8690.25   8738.80   8677.01   8738.51  1156.787342\n2020-01-17 02:00:00   8738.80   8780.00   8718.16   8757.06  2083.041074\n2020-01-17 03:00:00   8757.29   8840.40   8751.05   8786.43  3103.062255\n2020-01-17 04:00:00   8786.43   8808.92   8760.00   8791.05  1329.841605\n\n[17829 rows x 5 columns]\n"
     ],
     "output_type": "stream"
    }
   ],
   "source": [
    "import pandas as pd\n",
    "import datetime\n",
    "\n",
    "filepath = '../../candle_data/BINANCE_BTCUSDT, 60.csv'\n",
    "\n",
    "df = pd.read_csv(filepath, index_col='time',\n",
    "     usecols=['time', 'open', 'high', 'low', 'close', 'volume'],\n",
    "     parse_dates=['time'],\n",
    "     date_parser=lambda epoch: pd.to_datetime(epoch, unit='s')\n",
    "     )\n",
    "\n",
    "print(df)"
   ]
  },
  {
   "cell_type": "code",
   "execution_count": 2,
   "outputs": [
    {
     "name": "stdout",
     "text": [
      "새로운 한주가 시작됨! >  2018-01-02 00:00:00 , week:  1 , week_open_price:  13382.16 , volat:  1068.5499999999993\n새로운 한주가 시작됨! >  2018-01-09 00:00:00 , week:  1 , week_open_price:  14902.54 , volat:  4364.240000000002\n새로운 한주가 시작됨! >  2018-01-16 00:00:00 , week:  1 , week_open_price:  13500.0 , volat:  4100.0\n새로운 한주가 시작됨! >  2018-01-23 00:00:00 , week:  1 , week_open_price:  10760.05 , volat:  4507.93\n",
      "새로운 한주가 시작됨! > ",
      " 2018-01-30 00:00:00 , week:  1 , week_open_price:  11250.11 , volat:  2339.0\n새로운 한주가 시작됨! >  2018-02-06 00:00:00 , week:  1 , week_open_price:  6939.63 , volat:  4683.42\n새로운 한주가 시작됨! >  2018-02-13 00:00:00 , week:  1 , week_open_price:  8903.0 , volat:  3065.7700000000004\n새로운 한주가 시작됨! >  2018-02-20 00:00:00 , week:  1 , week_open_price:  11147.11 , volat:  2923.0\n",
      "새로운 한주가 시작됨! >  2018-02-27 00:00:00 , week:  1 , week_open_price:  10321.0 , volat:  2511.210000000001\n새로운 한주가 시작됨! >  2018-03-06 00:00:00 , week:  1 , week_open_price:  11455.0 , volat:  1589.0\n새로운 한주가 시작됨! >  2018-03-13 00:00:00 , week:  1 , week_open_price:  9131.34 , volat:  3126.0\n새로운 한주가 시작됨! >  2018-03-20 00:00:00 , week:  1 , week_open_price:  8595.01 , volat:  2152.0\n새로운 한주가 시작됨! >  2018-03-27 00:00:00 , week:  1 , week_open_price:  8134.22 , volat:  1346.0100000000002\n",
      "새로운 한주가 시작됨! >  2018-04-03 00:00:00 , week:  1 , week_open_price:  7063.97 , volat:  1785.9400000000005\n새로운 한주가 시작됨! >  2018-04-10 00:00:00 , week:  1 , week_open_price:  6781.55 , volat:  1020.0\n새로운 한주가 시작됨! >  2018-04-17 00:00:00 , week:  1 , week_open_price:  8064.92 , volat:  1773.5400000000009\n새로운 한주가 시작됨! >  2018-04-24 00:00:00 , week:  1 , week_open_price:  8934.0 , volat:  1209.6000000000004\n새로운 한주가 시작됨! >  2018-05-01 00:00:00 , week:  1 , week_open_price:  9246.01 , volat:  1108.199999999999\n새로운 한주가 시작됨! >  2018-05-08 00:00:00 , week:  1 , week_open_price:  9365.0 , volat:  1219.5100000000002\n",
      "새로운 한주가 시작됨! >  2018-05-15 00:00:00 , week:  1 , week_open_price:  8663.37 , volat:  1322.7000000000007\n새로운 한주가 시작됨! >  2018-05-22 00:00:00 , week:  1 , week_open_price:  8386.89 , volat:  948.0900000000001\n새로운 한주가 시작됨! >  2018-05-29 00:00:00 , week:  1 , week_open_price:  7099.0 , volat:  1342.1599999999999\n새로운 한주가 시작됨! >  2018-06-05 00:00:00 , week:  1 , week_open_price:  7487.0 , volat:  753.7399999999998\n새로운 한주가 시작됨! >  2018-06-12 00:00:00 , week:  1 , week_open_price:  6872.0 , volat:  1155.0\n",
      "새로운 한주가 시작됨! >  2018-06-19 00:00:00 , week:  1 , week_open_price:  6711.39 , volat:  771.8299999999999\n새로운 한주가 시작됨! >  2018-06-26 00:00:00 , week:  1 , week_open_price:  6252.0 , volat:  1091.7399999999998\n새로운 한주가 시작됨! >  2018-07-03 00:00:00 , week:  1 , week_open_price:  6615.29 , volat:  905.0\n새로운 한주가 시작됨! >  2018-07-10 00:00:00 , week:  1 , week_open_price:  6662.78 , volat:  393.15999999999985\n새로운 한주가 시작됨! >  2018-07-17 00:00:00 , week:  1 , week_open_price:  6723.33 , volat:  677.3000000000002\n",
      "새로운 한주가 시작됨! >  2018-07-24 00:00:00 , week:  1 , week_open_price:  7721.65 , volat:  1180.96\n"
     ],
     "output_type": "stream"
    }
   ],
   "source": [
    "import numpy as np\n",
    "\n",
    "week_start = 1 \n",
    "rate = 0.4\n",
    "this_week = -1\n",
    "week_open_price = np.NaN\n",
    "high = np.NaN\n",
    "low = np.NaN\n",
    "\n",
    "df['week_low'] = np.NaN\n",
    "for i in range(len(df.index)):\n",
    "    candle = df.iloc[i]\n",
    "    dayofweek = df.index[i].dayofweek\n",
    "    if this_week != dayofweek:\n",
    "        this_week = dayofweek\n",
    "        if dayofweek == week_start:\n",
    "            week_open_price = candle.open\n",
    "            # 새로 한주가 시작되었다면 이전에 만들어 놓은 high, low를 돌파변수로 이용한다.\n",
    "            volatility = high - low\n",
    "            high = np.NaN\n",
    "            low = np.NaN\n",
    "            print('새로운 한주가 시작됨! > ', df.index[i], ', week: ', this_week ,', week_open_price: ', week_open_price,\n",
    "                  ', volat: ', volatility)\n",
    "    # print(df.index[i], 'OPEN: ',  week_open_price, ', VOLAT: ', volatility)\n",
    "    # print(df.index[i], ' UPPER: ', week_open_price + rate * volatility, ', LOWER: ', week_open_price - rate * volatility)\n",
    "    # print(df.index[i], candle)\n",
    "    high = np.nanmax([high, candle.high])\n",
    "    low = np.nanmin([low, candle.low])\n",
    "    # print(i, df.index[i], candle.high, candle.low, high, low)\n",
    "    # print('----')\n",
    "    if i == 5000:\n",
    "        break\n"
   ],
   "metadata": {
    "collapsed": false,
    "pycharm": {
     "name": "#%%\n",
     "is_executing": false
    }
   }
  },
  {
   "cell_type": "code",
   "execution_count": 3,
   "outputs": [
    {
     "data": {
      "text/plain": "<Figure size 576x360 with 2 Axes>",
      "image/png": "[encoded data removed]"
     },
     "metadata": {},
     "output_type": "display_data"
    }
   ],
   "source": [
    "import matplotlib.pyplot as plt\n",
    "import matplotlib.gridspec as gridspec\n",
    "fig = plt.figure(figsize=(8, 5))\n",
    "fig.set_facecolor('w')\n",
    "gs = gridspec.GridSpec(2, 1, height_ratios=[3, 1])\n",
    "axes = []\n",
    "axes.append(plt.subplot(gs[0]))\n",
    "axes.append(plt.subplot(gs[1], sharex=axes[0]))\n",
    "axes[0].get_xaxis().set_visible(False)\n"
   ],
   "metadata": {
    "collapsed": false,
    "pycharm": {
     "name": "#%%\n",
     "is_executing": false
    }
   }
  },
  {
   "cell_type": "code",
   "execution_count": 4,
   "outputs": [],
   "source": [
    "# df.plot(subplots=True, legend=False)\n",
    "# \n",
    "# from matplotlib import pyplot\n",
    "# pyplot.show()\n"
   ],
   "metadata": {
    "collapsed": false,
    "pycharm": {
     "name": "#%%\n",
     "is_executing": false
    }
   }
  },
  {
   "cell_type": "code",
   "execution_count": 9,
   "outputs": [
    {
     "name": "stdout",
     "text": [
      "1\n"
     ],
     "output_type": "stream"
    },
    {
     "data": {
      "text/plain": "<Figure size 432x288 with 0 Axes>"
     },
     "metadata": {},
     "output_type": "display_data"
    }
   ],
   "source": [
    "from mpl_finance import candlestick_ohlc\n",
    "\n",
    "x = np.arange(len(df.index))\n",
    "ohlc = df[['open', 'high', 'low', 'close']].astype(int).values\n",
    "dohlc = np.hstack((np.reshape(x, (-1, 1)), ohlc))\n",
    "print(1)\n",
    "# 봉차트\n",
    "candlestick_ohlc(axes[0], dohlc, width=0.5, colorup='r', colordown='b')\n",
    "\n",
    "# 거래량 차트\n",
    "axes[1].bar(x, df.volume, color='k', width=0.6, align='center')\n",
    "\n",
    "\n",
    "# \n",
    "# # xlabels에 요일 추가\n",
    "# import datetime\n",
    "# _xticks = []\n",
    "# _xlabels = []\n",
    "# _wd_prev = 0\n",
    "# for _x, d in zip(x, df.date.values):\n",
    "#     weekday = datetime.datetime.strptime(str(d), '%Y%m%d').weekday()\n",
    "#     if weekday <= _wd_prev:\n",
    "#         _xticks.append(_x)\n",
    "#         _xlabels.append(datetime.datetime.strptime(str(d), '%Y%m%d').strftime('%m/%d'))\n",
    "#     _wd_prev = weekday\n",
    "# axes[1].set_xticks(_xticks)\n",
    "# axes[1].set_xticklabels(_xlabels, rotation=45, minor=False)\n",
    "# \n",
    "\n",
    "\n",
    "\n",
    "plt.tight_layout()\n",
    "plt.show()\n",
    "\n"
   ],
   "metadata": {
    "collapsed": false,
    "pycharm": {
     "name": "#%%\n",
     "is_executing": false
    }
   }
  },
  {
   "cell_type": "code",
   "execution_count": 18,
   "outputs": [
    {
     "name": "stdout",
     "text": [
      "                         open      high       low     close       volume\ntime                                                                    \n2018-01-01 00:00:00  13715.65  13715.65  13400.01  13529.01   443.356199\n2018-01-01 01:00:00  13528.99  13595.89  13155.38  13203.06   383.697006\n2018-01-01 02:00:00  13203.00  13418.43  13200.00  13330.18   429.064572\n2018-01-01 03:00:00  13330.26  13611.27  13290.00  13410.03   420.087030\n2018-01-01 04:00:00  13434.98  13623.29  13322.15  13601.01   340.807329\n...                       ...       ...       ...       ...          ...\n2020-01-17 00:00:00   8720.15   8743.99   8672.44   8690.31  1988.852577\n2020-01-17 01:00:00   8690.25   8738.80   8677.01   8738.51  1156.787342\n2020-01-17 02:00:00   8738.80   8780.00   8718.16   8757.06  2083.041074\n2020-01-17 03:00:00   8757.29   8840.40   8751.05   8786.43  3103.062255\n2020-01-17 04:00:00   8786.43   8808.92   8760.00   8791.05  1329.841605\n\n[17829 rows x 5 columns]\n"
     ],
     "output_type": "stream"
    },
    {
     "traceback": [
      "\u001b[1;31m---------------------------------------------------------------------------\u001b[0m",
      "\u001b[1;31mValueError\u001b[0m                                Traceback (most recent call last)",
      "\u001b[1;32m<ipython-input-18-ac683fa80816>\u001b[0m in \u001b[0;36m<module>\u001b[1;34m\u001b[0m\n\u001b[0;32m     34\u001b[0m \u001b[0mx\u001b[0m \u001b[1;33m=\u001b[0m \u001b[0mnp\u001b[0m\u001b[1;33m.\u001b[0m\u001b[0marange\u001b[0m\u001b[1;33m(\u001b[0m\u001b[0mlen\u001b[0m\u001b[1;33m(\u001b[0m\u001b[0mdf\u001b[0m\u001b[1;33m.\u001b[0m\u001b[0mindex\u001b[0m\u001b[1;33m)\u001b[0m\u001b[1;33m)\u001b[0m\u001b[1;33m\u001b[0m\u001b[1;33m\u001b[0m\u001b[0m\n\u001b[0;32m     35\u001b[0m \u001b[0mohlc\u001b[0m \u001b[1;33m=\u001b[0m \u001b[0mdf2\u001b[0m\u001b[1;33m[\u001b[0m\u001b[1;33m[\u001b[0m\u001b[1;34m'open'\u001b[0m\u001b[1;33m,\u001b[0m \u001b[1;34m'high'\u001b[0m\u001b[1;33m,\u001b[0m \u001b[1;34m'low'\u001b[0m\u001b[1;33m,\u001b[0m \u001b[1;34m'close'\u001b[0m\u001b[1;33m]\u001b[0m\u001b[1;33m]\u001b[0m\u001b[1;33m.\u001b[0m\u001b[0mastype\u001b[0m\u001b[1;33m(\u001b[0m\u001b[0mint\u001b[0m\u001b[1;33m)\u001b[0m\u001b[1;33m.\u001b[0m\u001b[0mvalues\u001b[0m\u001b[1;33m\u001b[0m\u001b[1;33m\u001b[0m\u001b[0m\n\u001b[1;32m---> 36\u001b[1;33m \u001b[0mdohlc\u001b[0m \u001b[1;33m=\u001b[0m \u001b[0mnp\u001b[0m\u001b[1;33m.\u001b[0m\u001b[0mhstack\u001b[0m\u001b[1;33m(\u001b[0m\u001b[1;33m(\u001b[0m\u001b[0mnp\u001b[0m\u001b[1;33m.\u001b[0m\u001b[0mreshape\u001b[0m\u001b[1;33m(\u001b[0m\u001b[0mx\u001b[0m\u001b[1;33m,\u001b[0m \u001b[1;33m(\u001b[0m\u001b[1;33m-\u001b[0m\u001b[1;36m1\u001b[0m\u001b[1;33m,\u001b[0m \u001b[1;36m1\u001b[0m\u001b[1;33m)\u001b[0m\u001b[1;33m)\u001b[0m\u001b[1;33m,\u001b[0m \u001b[0mohlc\u001b[0m\u001b[1;33m)\u001b[0m\u001b[1;33m)\u001b[0m\u001b[1;33m\u001b[0m\u001b[1;33m\u001b[0m\u001b[0m\n\u001b[0m\u001b[0;32m     37\u001b[0m \u001b[1;33m\u001b[0m\u001b[0m\n\u001b[0;32m     38\u001b[0m \u001b[0mprint\u001b[0m\u001b[1;33m(\u001b[0m\u001b[0mdohlc\u001b[0m\u001b[1;33m)\u001b[0m\u001b[1;33m\u001b[0m\u001b[1;33m\u001b[0m\u001b[0m\n",
      "\u001b[1;32m<__array_function__ internals>\u001b[0m in \u001b[0;36mhstack\u001b[1;34m(*args, **kwargs)\u001b[0m\n",
      "\u001b[1;32m~\\Anaconda3\\envs\\futuremaker\\lib\\site-packages\\numpy\\core\\shape_base.py\u001b[0m in \u001b[0;36mhstack\u001b[1;34m(tup)\u001b[0m\n\u001b[0;32m    343\u001b[0m         \u001b[1;32mreturn\u001b[0m \u001b[0m_nx\u001b[0m\u001b[1;33m.\u001b[0m\u001b[0mconcatenate\u001b[0m\u001b[1;33m(\u001b[0m\u001b[0marrs\u001b[0m\u001b[1;33m,\u001b[0m \u001b[1;36m0\u001b[0m\u001b[1;33m)\u001b[0m\u001b[1;33m\u001b[0m\u001b[1;33m\u001b[0m\u001b[0m\n\u001b[0;32m    344\u001b[0m     \u001b[1;32melse\u001b[0m\u001b[1;33m:\u001b[0m\u001b[1;33m\u001b[0m\u001b[1;33m\u001b[0m\u001b[0m\n\u001b[1;32m--> 345\u001b[1;33m         \u001b[1;32mreturn\u001b[0m \u001b[0m_nx\u001b[0m\u001b[1;33m.\u001b[0m\u001b[0mconcatenate\u001b[0m\u001b[1;33m(\u001b[0m\u001b[0marrs\u001b[0m\u001b[1;33m,\u001b[0m \u001b[1;36m1\u001b[0m\u001b[1;33m)\u001b[0m\u001b[1;33m\u001b[0m\u001b[1;33m\u001b[0m\u001b[0m\n\u001b[0m\u001b[0;32m    346\u001b[0m \u001b[1;33m\u001b[0m\u001b[0m\n\u001b[0;32m    347\u001b[0m \u001b[1;33m\u001b[0m\u001b[0m\n",
      "\u001b[1;32m<__array_function__ internals>\u001b[0m in \u001b[0;36mconcatenate\u001b[1;34m(*args, **kwargs)\u001b[0m\n",
      "\u001b[1;31mValueError\u001b[0m: all the input array dimensions for the concatenation axis must match exactly, but along dimension 0, the array at index 0 has size 17829 and the array at index 1 has size 60"
     ],
     "ename": "ValueError",
     "evalue": "all the input array dimensions for the concatenation axis must match exactly, but along dimension 0, the array at index 0 has size 17829 and the array at index 1 has size 60",
     "output_type": "error"
    },
    {
     "data": {
      "text/plain": "<Figure size 576x360 with 2 Axes>",
      "image/png": "[encoded data removed]"
     },
     "metadata": {},
     "output_type": "display_data"
    }
   ],
   "source": [
    "import numpy as np\n",
    "# def get_mdd(x):\n",
    "#     \"\"\"\n",
    "#     MDD(Maximum Draw-Down)\n",
    "#     :return: (peak_upper, peak_lower, mdd rate)\n",
    "#     \"\"\"\n",
    "#     arr_v = np.array(x)\n",
    "#     peak_lower = np.argmax(np.maximum.accumulate(arr_v) - arr_v)\n",
    "#     peak_upper = np.argmax(arr_v[:peak_lower])\n",
    "#     return peak_upper, peak_lower, (arr_v[peak_lower] - arr_v[peak_upper]) / arr_v[peak_upper]\n",
    "# \n",
    "# \n",
    "data = [['20190219', 125000.0, 127500.0, 123500.0, 126000.0, 57757], ['20190220', 125000.0, 127000.0, 124500.0, 126000.0, 68453], ['20190221', 125500.0, 126000.0, 124000.0, 125000.0, 43961], ['20190222', 125000.0, 125000.0, 123500.0, 125000.0, 31065], ['20190225', 125500.0, 126000.0, 124000.0, 125500.0, 45852], ['20190226', 125000.0, 127000.0, 124500.0, 126500.0, 37404], ['20190227', 126500.0, 127000.0, 124500.0, 126000.0, 36131], ['20190228', 126500.0, 127000.0, 124500.0, 125000.0, 69474], ['20190304', 124500.0, 125500.0, 122500.0, 123500.0, 65517], ['20190305', 123000.0, 125000.0, 122000.0, 124500.0, 35186], ['20190306', 124000.0, 124500.0, 122500.0, 123500.0, 35449], ['20190307', 123500.0, 124000.0, 122000.0, 123500.0, 34768], ['20190308', 122500.0, 122500.0, 120500.0, 121500.0, 35118], ['20190311', 121500.0, 122500.0, 120000.0, 122500.0, 39576], ['20190312', 123000.0, 124000.0, 122000.0, 123500.0, 24117], ['20190313', 123000.0, 123500.0, 121500.0, 123500.0, 37649], ['20190314', 123000.0, 124000.0, 122000.0, 123500.0, 95132], ['20190315', 123000.0, 128000.0, 123000.0, 126500.0, 107246], ['20190318', 127000.0, 131000.0, 126500.0, 131000.0, 74644], ['20190319', 130000.0, 134000.0, 129500.0, 133000.0, 68348], ['20190320', 132000.0, 133000.0, 129500.0, 131000.0, 42697], ['20190321', 130000.0, 132000.0, 127500.0, 128500.0, 54018], ['20190322', 127500.0, 129500.0, 126500.0, 127000.0, 32380], ['20190325', 125500.0, 126500.0, 124000.0, 124500.0, 37185], ['20190326', 124500.0, 125500.0, 123500.0, 124000.0, 45161], ['20190327', 124000.0, 125000.0, 123500.0, 124000.0, 34336], ['20190328', 124000.0, 124500.0, 120500.0, 121500.0, 43518], ['20190329', 122500.0, 125000.0, 122000.0, 124500.0, 39035], ['20190401', 124000.0, 126500.0, 124000.0, 126500.0, 22463], ['20190402', 125500.0, 126500.0, 123500.0, 126000.0, 31754], ['20190403', 124500.0, 128000.0, 124500.0, 128000.0, 36250], ['20190404', 128500.0, 128500.0, 126000.0, 128000.0, 34854], ['20190405', 127500.0, 129000.0, 126000.0, 127500.0, 33513], ['20190408', 127500.0, 128000.0, 126000.0, 128000.0, 39005], ['20190409', 128000.0, 129000.0, 127500.0, 128500.0, 33266], ['20190410', 128000.0, 129000.0, 126500.0, 128000.0, 64476], ['20190411', 128500.0, 129000.0, 125000.0, 125000.0, 84802], ['20190412', 126000.0, 127500.0, 125500.0, 127000.0, 39663], ['20190415', 126500.0, 128500.0, 126000.0, 127000.0, 61140], ['20190416', 127000.0, 129000.0, 126500.0, 128500.0, 40123], ['20190417', 128500.0, 129000.0, 127000.0, 128000.0, 30846], ['20190418', 128000.0, 128500.0, 124000.0, 124500.0, 55346], ['20190419', 124500.0, 125000.0, 122000.0, 123000.0, 53439], ['20190422', 123000.0, 123500.0, 121000.0, 122500.0, 30421], ['20190423', 122500.0, 123500.0, 120500.0, 121500.0, 54997], ['20190424', 122500.0, 122500.0, 119500.0, 120000.0, 63486], ['20190425', 121000.0, 121000.0, 118500.0, 119000.0, 36046], ['20190426', 118500.0, 119500.0, 117000.0, 119000.0, 43749], ['20190429', 119000.0, 119500.0, 117000.0, 119500.0, 33516], ['20190430', 122000.0, 123000.0, 119000.0, 119500.0, 94118], ['20190502', 118500.0, 122000.0, 118000.0, 121000.0, 56723], ['20190503', 121000.0, 122000.0, 119500.0, 120000.0, 35240], ['20190507', 118500.0, 119500.0, 117000.0, 117500.0, 44453], ['20190508', 116500.0, 117000.0, 115000.0, 116500.0, 52805], ['20190509', 117000.0, 117000.0, 113000.0, 113000.0, 116012], ['20190510', 113000.0, 114500.0, 110000.0, 111500.0, 86072], ['20190513', 110500.0, 110500.0, 107500.0, 108500.0, 70847], ['20190514', 107500.0, 108000.0, 105000.0, 106500.0, 92820], ['20190515', 107000.0, 107500.0, 105000.0, 107000.0, 68937], ['20190516', 107000.0, 107500.0, 104000.0, 105000.0, 64047]]\n",
    "import pandas as pd\n",
    "df2 = pd.DataFrame(data, columns=['date', 'open', 'high', 'low', 'close', 'volume'])\n",
    "# # mdd = get_mdd(df['close'])\n",
    "print(df)\n",
    "\n",
    "# print('=========================================================')\n",
    "# print(df2)\n",
    "\n",
    "import matplotlib.pyplot as plt\n",
    "import matplotlib.gridspec as gridspec\n",
    "fig = plt.figure(figsize=(8, 5))\n",
    "fig.set_facecolor('w')\n",
    "gs = gridspec.GridSpec(2, 1, height_ratios=[3, 1])\n",
    "axes = []\n",
    "axes.append(plt.subplot(gs[0]))\n",
    "axes.append(plt.subplot(gs[1], sharex=axes[0]))\n",
    "axes[0].get_xaxis().set_visible(False)\n",
    "\n",
    "from mpl_finance import candlestick_ohlc\n",
    "\n",
    "x = np.arange(len(df.index))\n",
    "ohlc = df2[['open', 'high', 'low', 'close']].astype(int).values\n",
    "dohlc = np.hstack((np.reshape(x, (-1, 1)), ohlc))\n",
    "\n",
    "print(dohlc)\n",
    "# 봉차트\n",
    "candlestick_ohlc(axes[0], dohlc, width=0.5, colorup='r', colordown='b')\n",
    "\n",
    "# 거래량 차트\n",
    "axes[1].bar(x, df.volume, color='k', width=0.6, align='center')\n",
    "# \n",
    "# import datetime\n",
    "# _xticks = []\n",
    "# _xlabels = []\n",
    "# _wd_prev = 0\n",
    "# for _x, d in zip(x, df.date.values):\n",
    "#     weekday = datetime.datetime.strptime(str(d), '%Y%m%d').weekday()\n",
    "#     if weekday <= _wd_prev:\n",
    "#         _xticks.append(_x)\n",
    "#         _xlabels.append(datetime.datetime.strptime(str(d), '%Y%m%d').strftime('%m/%d'))\n",
    "#     _wd_prev = weekday\n",
    "# axes[1].set_xticks(_xticks)\n",
    "# axes[1].set_xticklabels(_xlabels, rotation=45, minor=False)\n",
    "# \n",
    "# # MDD 그리기\n",
    "# # axes[0].plot(mdd[:2], df.loc[mdd[:2], 'close'], 'k')\n",
    "# \n",
    "plt.tight_layout()\n",
    "plt.show()\n",
    "\n"
   ],
   "metadata": {
    "collapsed": false,
    "pycharm": {
     "name": "#%%\n",
     "is_executing": false
    }
   }
  }
 ],
 "metadata": {
  "language_info": {
   "codemirror_mode": {
    "name": "ipython",
    "version": 2
   },
   "file_extension": ".py",
   "mimetype": "text/x-python",
   "name": "python",
   "nbconvert_exporter": "python",
   "pygments_lexer": "ipython2",
   "version": "2.7.6"
  },
  "kernelspec": {
   "name": "python3",
   "language": "python",
   "display_name": "Python 3"
  },
  "pycharm": {
   "stem_cell": {
    "cell_type": "raw",
    "source": [],
    "metadata": {
     "collapsed": false
    }
   }
  }
 },
 "nbformat": 4,
 "nbformat_minor": 0
}