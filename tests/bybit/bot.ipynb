{
 "cells": [
  {
   "cell_type": "code",
   "execution_count": 38,
   "metadata": {
    "collapsed": true,
    "pycharm": {
     "is_executing": false
    }
   },
   "outputs": [],
   "source": [
    "import pandas as pd\n",
    "# df = pd.read_csv('90d.csv')\n",
    "df = pd.read_csv('6M.csv')\n",
    "\n",
    "df['range'] = (df['high'] - df['low']) * 0.5\n",
    "df['range_shift1'] = df['range'].shift(1)\n",
    "df['long_target'] = df['open'] + df['range_shift1']\n",
    "df['short_target'] = df['open'] - df['range_shift1']\n",
    "df['close-open'] = df['close'] - df['open']\n",
    "\n",
    "# 양봉인지 여부.\n",
    "df['is_green'] = df['close-open'] >= 0\n",
    "\n"
   ]
  },
  {
   "cell_type": "code",
   "execution_count": 39,
   "outputs": [],
   "source": [
    "def long_sell_price(x):\n",
    "    if x['is_green']:\n",
    "        # 오름봉이면, 최대값에서 100불이 빠졌을때 익절한다.\n",
    "        return x['high'] - 100 if x['close'] <= x['high'] - 100 else x['close']\n",
    "    else:\n",
    "        # 내린봉이면. low 가 진입가보다 -30불이상 더 낮으면 손절한다.\n",
    "        return x['long_target'] - 30 if x['low'] <= x['long_target'] - 30 else x['close']\n",
    "\n",
    "\n",
    "def short_sell_price(x):\n",
    "    if not x['is_green']:\n",
    "        # 내림봉이면 익절, 최대값에서 100불이 빠졌을때 익절한다.\n",
    "        return x['low'] + 100 if x['close'] >= x['low'] + 100 else x['close']\n",
    "    else:\n",
    "        # 오름봉이면 손절. low 가 진입가보다 -30불이상 더 낮으면 손절한다.\n",
    "        return x['short_target'] + 30 if x['high'] >= x['short_target'] + 30 else x['close']"
   ],
   "metadata": {
    "collapsed": false,
    "pycharm": {
     "name": "#%%\n",
     "is_executing": false
    }
   }
  },
  {
   "cell_type": "code",
   "execution_count": 40,
   "outputs": [],
   "source": [
    "import numpy as np\n",
    "# 롱타겟\n",
    "# df['high'] > df['long_target'\n",
    "df['sell_price_long'] = df.apply(lambda x: long_sell_price(x), axis=1)\n",
    "df['pnl_long'] = np.where(df['high'] > df['long_target'], df['sell_price_long'] - df['long_target'], 0)\n",
    "df['profit_long%'] = df['pnl_long'] / df['long_target']\n",
    "df['ror_long'] = np.where(df['high'] > df['long_target'], df['sell_price_long'] / df['long_target'], 1)\n",
    "\n",
    "# 숏타켓\n",
    "# df['low'] < df['short_target']\n",
    "df['sell_price_short'] = df.apply(lambda x: short_sell_price(x), axis=1)\n",
    "df['pnl_short'] = np.where(df['low'] < df['short_target'], df['short_target'] - df['sell_price_short'], 0)\n",
    "df['profit_short%'] = df['pnl_short'] / df['short_target']\n",
    "df['ror_short'] = np.where(df['low'] < df['short_target'], df['short_target'] / df['sell_price_short'], 1)"
   ],
   "metadata": {
    "collapsed": false,
    "pycharm": {
     "name": "#%%\n",
     "is_executing": false
    }
   }
  },
  {
   "cell_type": "code",
   "execution_count": 41,
   "outputs": [
    {
     "name": "stdout",
     "text": [
      "     Unnamed: 0   open_time     open    close     high      low      volume  \\\n0             0  1562025600  10570.5  10836.5  11462.0   9661.5  93432224.0   \n1             1  1562112000  10836.5  11989.5  12029.5  10836.5  88350286.0   \n2             2  1562198400  11989.5  11161.0  12068.5  11062.0  62613634.0   \n3             3  1562284800  11161.0  10986.0  11401.5  10772.5  58569421.0   \n4             4  1562371200  10986.0  11236.0  11728.0  10962.5  56837914.0   \n..          ...         ...      ...      ...      ...      ...         ...   \n174         174  1577059200   7503.5   7314.0   7687.5   7267.5  78395903.0   \n175         175  1577145600   7314.0   7249.0   7419.0   7158.0  59308981.0   \n176         176  1577232000   7249.0   7194.0   7259.5   7118.0  32256640.0   \n177         177  1577318400   7194.0   7191.0   7425.0   7147.0  33206699.0   \n178         178  1577404800   7191.0   7170.5   7267.5   7067.0  34611962.0   \n\n           date   range  range_shift1  ...  long_win  long_lose  short_win  \\\n0    2019-07-02  900.25           NaN  ...         0          0          0   \n1    2019-07-03  596.50        900.25  ...         1          0          0   \n2    2019-07-04  503.25        596.50  ...         0          0          1   \n3    2019-07-05  314.50        503.25  ...         0          0          0   \n4    2019-07-06  382.75        314.50  ...         1          0          0   \n..          ...     ...           ...  ...       ...        ...        ...   \n174  2019-12-23  210.00        194.25  ...         0          0          0   \n175  2019-12-24  130.50        210.00  ...         0          0          0   \n176  2019-12-25   70.75        130.50  ...         0          0          0   \n177  2019-12-26  139.00         70.75  ...         0          1          0   \n178  2019-12-27  100.25        139.00  ...         0          0          0   \n\n     short_lose  cum_long_win  cum_long_lose  cum_short_win  cum_short_lose  \\\n0             0             0              0              0               0   \n1             0             1              0              0               0   \n2             0             1              0              1               0   \n3             0             1              0              1               0   \n4             0             2              0              1               0   \n..          ...           ...            ...            ...             ...   \n174           1            34             24             51              29   \n175           0            34             24             51              29   \n176           1            34             24             51              30   \n177           0            34             25             51              30   \n178           0            34             25             51              30   \n\n     cumprod_long  cumprod_short  \n0        1.000000       1.000000  \n1        1.021535       1.000000  \n2        1.021535       1.020787  \n3        1.021535       1.020787  \n4        1.051140       1.020787  \n..            ...            ...  \n174      2.907948       3.237395  \n175      2.907948       3.237395  \n176      2.907948       3.203419  \n177      2.895940       3.203419  \n178      2.895940       3.203419  \n\n[179 rows x 32 columns]\n"
     ],
     "output_type": "stream"
    }
   ],
   "source": [
    "# 1보다 크면 수익있는것.\n",
    "df['long_win'] = np.where(df['ror_long'] > 1, 1, 0)\n",
    "df['long_lose'] = np.where(df['ror_long'] < 1, 1, 0)\n",
    "df['short_win'] = np.where(df['ror_short'] > 1, 1, 0)\n",
    "df['short_lose'] = np.where(df['ror_short'] < 1, 1, 0)\n",
    "df['cum_long_win'] = df['long_win'].cumsum()\n",
    "df['cum_long_lose'] = df['long_lose'].cumsum()\n",
    "df['cum_short_win'] = df['short_win'].cumsum()\n",
    "df['cum_short_lose'] = df['short_lose'].cumsum()\n",
    "df['cumprod_long'] = df['ror_long'].cumprod()\n",
    "df['cumprod_short'] = df['ror_short'].cumprod()\n",
    "\n",
    "# print(df.to_string())\n",
    "print(df)\n",
    "\n"
   ],
   "metadata": {
    "collapsed": false,
    "pycharm": {
     "name": "#%%\n",
     "is_executing": false
    }
   }
  }
 ],
 "metadata": {
  "language_info": {
   "codemirror_mode": {
    "name": "ipython",
    "version": 2
   },
   "file_extension": ".py",
   "mimetype": "text/x-python",
   "name": "python",
   "nbconvert_exporter": "python",
   "pygments_lexer": "ipython2",
   "version": "2.7.6"
  },
  "kernelspec": {
   "name": "python3",
   "language": "python",
   "display_name": "Python 3"
  },
  "pycharm": {
   "stem_cell": {
    "cell_type": "raw",
    "source": [],
    "metadata": {
     "collapsed": false
    }
   }
  }
 },
 "nbformat": 4,
 "nbformat_minor": 0
}