{
 "cells": [
  {
   "cell_type": "code",
   "execution_count": 1,
   "metadata": {
    "collapsed": true,
    "pycharm": {
     "is_executing": false
    }
   },
   "outputs": [
    {
     "data": {
      "text/plain": "    Unnamed: 0            MTS          Open        Close         High     Low  \\\n0            0  1569196800000  10059.000000  9702.600000  10077.00000  9610.3   \n1            1  1569283200000   9708.500000  8538.700000   9795.00000  8100.0   \n2            2  1569369600000   8536.984312  8475.300000   8773.60000  8262.0   \n3            3  1569456000000   8472.000000  8105.900000   8493.07283  7796.6   \n4            4  1569542400000   8105.900000  8213.400000   8309.80000  7906.3   \n..         ...            ...           ...          ...          ...     ...   \n85          85  1576540800000   6926.800000  6667.100000   6972.00000  6620.0   \n86          86  1576627200000   6667.068103  7326.200000   7482.20000  6477.0   \n87          87  1576713600000   7326.200000  7181.800000   7417.10000  7079.7   \n88          88  1576800000000   7181.770199  7212.925908   7249.00000  7116.8   \n89          89  1576886400000   7213.000000  7154.500000   7215.10000  7136.5   \n\n          Volume  \n0    5489.730408  \n1   34869.189366  \n2   12773.963029  \n3   15418.993022  \n4    7469.155896  \n..           ...  \n85  12656.313323  \n86  13752.710168  \n87   5430.843086  \n88   5703.239879  \n89   1273.629259  \n\n[90 rows x 7 columns]",
      "text/html": "<div>\n<style scoped>\n    .dataframe tbody tr th:only-of-type {\n        vertical-align: middle;\n    }\n\n    .dataframe tbody tr th {\n        vertical-align: top;\n    }\n\n    .dataframe thead th {\n        text-align: right;\n    }\n</style>\n<table border=\"1\" class=\"dataframe\">\n  <thead>\n    <tr style=\"text-align: right;\">\n      <th></th>\n      <th>Unnamed: 0</th>\n      <th>MTS</th>\n      <th>Open</th>\n      <th>Close</th>\n      <th>High</th>\n      <th>Low</th>\n      <th>Volume</th>\n    </tr>\n  </thead>\n  <tbody>\n    <tr>\n      <th>0</th>\n      <td>0</td>\n      <td>1569196800000</td>\n      <td>10059.000000</td>\n      <td>9702.600000</td>\n      <td>10077.00000</td>\n      <td>9610.3</td>\n      <td>5489.730408</td>\n    </tr>\n    <tr>\n      <th>1</th>\n      <td>1</td>\n      <td>1569283200000</td>\n      <td>9708.500000</td>\n      <td>8538.700000</td>\n      <td>9795.00000</td>\n      <td>8100.0</td>\n      <td>34869.189366</td>\n    </tr>\n    <tr>\n      <th>2</th>\n      <td>2</td>\n      <td>1569369600000</td>\n      <td>8536.984312</td>\n      <td>8475.300000</td>\n      <td>8773.60000</td>\n      <td>8262.0</td>\n      <td>12773.963029</td>\n    </tr>\n    <tr>\n      <th>3</th>\n      <td>3</td>\n      <td>1569456000000</td>\n      <td>8472.000000</td>\n      <td>8105.900000</td>\n      <td>8493.07283</td>\n      <td>7796.6</td>\n      <td>15418.993022</td>\n    </tr>\n    <tr>\n      <th>4</th>\n      <td>4</td>\n      <td>1569542400000</td>\n      <td>8105.900000</td>\n      <td>8213.400000</td>\n      <td>8309.80000</td>\n      <td>7906.3</td>\n      <td>7469.155896</td>\n    </tr>\n    <tr>\n      <th>...</th>\n      <td>...</td>\n      <td>...</td>\n      <td>...</td>\n      <td>...</td>\n      <td>...</td>\n      <td>...</td>\n      <td>...</td>\n    </tr>\n    <tr>\n      <th>85</th>\n      <td>85</td>\n      <td>1576540800000</td>\n      <td>6926.800000</td>\n      <td>6667.100000</td>\n      <td>6972.00000</td>\n      <td>6620.0</td>\n      <td>12656.313323</td>\n    </tr>\n    <tr>\n      <th>86</th>\n      <td>86</td>\n      <td>1576627200000</td>\n      <td>6667.068103</td>\n      <td>7326.200000</td>\n      <td>7482.20000</td>\n      <td>6477.0</td>\n      <td>13752.710168</td>\n    </tr>\n    <tr>\n      <th>87</th>\n      <td>87</td>\n      <td>1576713600000</td>\n      <td>7326.200000</td>\n      <td>7181.800000</td>\n      <td>7417.10000</td>\n      <td>7079.7</td>\n      <td>5430.843086</td>\n    </tr>\n    <tr>\n      <th>88</th>\n      <td>88</td>\n      <td>1576800000000</td>\n      <td>7181.770199</td>\n      <td>7212.925908</td>\n      <td>7249.00000</td>\n      <td>7116.8</td>\n      <td>5703.239879</td>\n    </tr>\n    <tr>\n      <th>89</th>\n      <td>89</td>\n      <td>1576886400000</td>\n      <td>7213.000000</td>\n      <td>7154.500000</td>\n      <td>7215.10000</td>\n      <td>7136.5</td>\n      <td>1273.629259</td>\n    </tr>\n  </tbody>\n</table>\n<p>90 rows × 7 columns</p>\n</div>"
     },
     "metadata": {},
     "output_type": "execute_result",
     "execution_count": 1
    }
   ],
   "source": [
    "import pandas as pd\n",
    "\n",
    "df = pd.read_csv('90d.csv')\n",
    "df\n",
    "\n"
   ]
  }
 ],
 "metadata": {
  "language_info": {
   "codemirror_mode": {
    "name": "ipython",
    "version": 2
   },
   "file_extension": ".py",
   "mimetype": "text/x-python",
   "name": "python",
   "nbconvert_exporter": "python",
   "pygments_lexer": "ipython2",
   "version": "2.7.6"
  },
  "kernelspec": {
   "name": "python3",
   "language": "python",
   "display_name": "Python 3"
  },
  "pycharm": {
   "stem_cell": {
    "cell_type": "raw",
    "source": [],
    "metadata": {
     "collapsed": false
    }
   }
  }
 },
 "nbformat": 4,
 "nbformat_minor": 0
}