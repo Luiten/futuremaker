{
 "cells": [
  {
   "cell_type": "code",
   "execution_count": 33,
   "metadata": {
    "collapsed": true,
    "pycharm": {
     "is_executing": false
    }
   },
   "outputs": [],
   "source": [
    "import pandas as pd\n",
    "# df = pd.read_csv('90d.csv')\n",
    "df = pd.read_csv('d2.csv')\n",
    "k = 0.5\n",
    "losscut = 200\n",
    "profitcut = 200\n",
    "fee_rate_pct = 0.075\n",
    "slippage_pct = 0.2\n",
    "\n",
    "df['range'] = (df['high'] - df['low']) * k\n",
    "df['range_shift1'] = df['range'].shift(1)\n",
    "df['long_target'] = df['open'] + df['range_shift1']\n",
    "df['short_target'] = df['open'] - df['range_shift1']\n",
    "df['close-open'] = df['close'] - df['open']\n",
    "\n",
    "# 양봉인지 여부.\n",
    "df['is_green'] = df['close-open'] >= 0"
   ]
  },
  {
   "cell_type": "code",
   "execution_count": 34,
   "outputs": [],
   "source": [
    "def long_sell_price(x):\n",
    "    if x['is_green']:\n",
    "        # 오름봉이면, 최대값에서 100불이 빠졌을때 익절한다.\n",
    "        return x['high'] - profitcut if x['close'] <= x['high'] - profitcut else x['close']\n",
    "    else:\n",
    "        # 내린봉이면. low 가 진입가보다 -30불이상 더 낮으면 손절한다.\n",
    "        return x['long_target'] - losscut if x['low'] <= x['long_target'] - losscut else x['close']\n",
    "\n",
    "\n",
    "def short_sell_price(x):\n",
    "    if not x['is_green']:\n",
    "        # 내림봉이면 익절, 최대값에서 100불이 빠졌을때 익절한다.\n",
    "        return x['low'] + profitcut if x['close'] >= x['low'] + profitcut else x['close']\n",
    "    else:\n",
    "        # 오름봉이면 손절. low 가 진입가보다 -30불이상 더 낮으면 손절한다.\n",
    "        return x['short_target'] + losscut if x['high'] >= x['short_target'] + losscut else x['close']"
   ],
   "metadata": {
    "collapsed": false,
    "pycharm": {
     "name": "#%%\n",
     "is_executing": false
    }
   }
  },
  {
   "cell_type": "code",
   "execution_count": 35,
   "outputs": [],
   "source": [
    "import numpy as np\n",
    "# 롱타겟\n",
    "# df['sell_price_long'] = df['close'] \n",
    "df['sell_price_long'] = df.apply(lambda x: long_sell_price(x), axis=1)\n",
    "df['pnl_long'] = np.where(df['high'] > df['long_target'], df['sell_price_long'] - df['long_target'], 0)\n",
    "df['profit_long%'] = df['pnl_long'] / df['long_target']\n",
    "df['ror_long'] = np.where(df['high'] > df['long_target'], df['sell_price_long'] / df['long_target'], 1)\n",
    "\n",
    "# 숏타켓\n",
    "# df['sell_price_short'] = df['close'] \n",
    "df['sell_price_short'] = df.apply(lambda x: short_sell_price(x), axis=1)\n",
    "df['pnl_short'] = np.where(df['low'] < df['short_target'], df['short_target'] - df['sell_price_short'], 0)\n",
    "df['profit_short%'] = df['pnl_short'] / df['short_target']\n",
    "df['ror_short'] = np.where(df['low'] < df['short_target'], df['short_target'] / df['sell_price_short'], 1)"
   ],
   "metadata": {
    "collapsed": false,
    "pycharm": {
     "name": "#%%\n",
     "is_executing": false
    }
   }
  },
  {
   "cell_type": "code",
   "execution_count": 36,
   "outputs": [
    {
     "name": "stdout",
     "text": [
      "     Unnamed: 0      open_time      open      high       low     close  \\\n0             0  1516233600000  10972.59  11878.82  10435.33  10961.97   \n1             1  1516320000000  10960.00  11795.00  10360.00  11474.98   \n2             2  1516406400000  11474.98  13099.00  11412.45  12799.94   \n3             3  1516492800000  12799.80  12799.80  10965.00  11530.00   \n4             4  1516579200000  11530.00  11926.35   9900.24  10760.05   \n..          ...            ...       ...       ...       ...       ...   \n705         705  1577145600000   7317.30   7436.68   7157.04   7255.77   \n706         706  1577232000000   7255.77   7271.77   7128.86   7204.63   \n707         707  1577318400000   7205.01   7435.00   7157.12   7202.00   \n708         708  1577404800000   7202.00   7275.86   7076.42   7254.74   \n709         709  1577491200000   7254.77   7360.00   7238.67   7339.13   \n\n           volume     close_time      volume.1  trades  ...  short_win  \\\n0    48464.434937  1516319999999  5.412896e+08  393112  ...          0   \n1    34129.375421  1516406399999  3.827735e+08  273271  ...          0   \n2    28768.857827  1516492799999  3.585611e+08  251647  ...          0   \n3    41379.773426  1516579199999  4.852892e+08  360207  ...          1   \n4    43752.606791  1516665599999  4.757165e+08  363264  ...          1   \n..            ...            ...           ...     ...  ...        ...   \n705  43629.494188  1577231999999  3.184280e+08  384678  ...          0   \n706  27492.044323  1577318399999  1.982733e+08  289924  ...          0   \n707  36259.761076  1577404799999  2.632898e+08  337695  ...          0   \n708  33642.701861  1577491199999  2.422147e+08  297262  ...          0   \n709  17610.818483  1577577599999  1.286285e+08  180278  ...          0   \n\n     short_lose  cum_long_win cum_long_lose  cum_short_win  cum_short_lose  \\\n0             0             0             0              0               0   \n1             0             0             1              0               0   \n2             0             1             1              0               0   \n3             0             1             1              1               0   \n4             0             1             1              2               0   \n..          ...           ...           ...            ...             ...   \n705           0           136           120            153             139   \n706           0           136           120            153             139   \n707           0           136           121            153             139   \n708           0           136           121            153             139   \n709           0           136           122            153             139   \n\n     cumprod_long  cumprod_short   dd_long  dd_short  \n0        1.000000       1.000000  0.000000  0.000000  \n1        0.992574       1.000000  0.742569  0.000000  \n2        1.050091       1.000000  0.000000  0.000000  \n3        1.050091       1.070893  0.000000  0.000000  \n4        1.050091       1.125217  0.000000  0.000000  \n..            ...            ...       ...       ...  \n705     10.280483      14.452597  2.523445  3.576461  \n706     10.280483      14.452597  2.523445  3.576461  \n707     10.175276      14.452597  3.520989  3.576461  \n708     10.175276      14.452597  3.520989  3.576461  \n709     10.154024      14.452597  3.722487  3.576461  \n\n[710 rows x 40 columns]\n-----------------------\n136 122 153 139\ntrade_count :  550\nfee%:  82.5\nslippage%:  220.0\nMDD_long:  12.702791701776276\nMDD_short:  17.173061503436816\n"
     ],
     "output_type": "stream"
    }
   ],
   "source": [
    "# 1보다 크면 수익있는것.\n",
    "df['long_win'] = np.where(df['ror_long'] > 1, 1, 0)\n",
    "df['long_lose'] = np.where(df['ror_long'] < 1, 1, 0)\n",
    "df['short_win'] = np.where(df['ror_short'] > 1, 1, 0)\n",
    "df['short_lose'] = np.where(df['ror_short'] < 1, 1, 0)\n",
    "df['cum_long_win'] = df['long_win'].cumsum()\n",
    "df['cum_long_lose'] = df['long_lose'].cumsum()\n",
    "df['cum_short_win'] = df['short_win'].cumsum()\n",
    "df['cum_short_lose'] = df['short_lose'].cumsum()\n",
    "df['cumprod_long'] = df['ror_long'].cumprod()\n",
    "df['cumprod_short'] = df['ror_short'].cumprod()\n",
    "# df['hpr'] = df['ror_long'].cumprod()\n",
    "# df['cumprod'] = df['ror_long'].cumprod()\n",
    "df['dd_long'] = (df['cumprod_long'].cummax() - df['cumprod_long']) / df['cumprod_long'].cummax() * 100\n",
    "df['dd_short'] = (df['cumprod_short'].cummax() - df['cumprod_short']) / df['cumprod_short'].cummax() * 100\n",
    "\n",
    "last = df.iloc[-1, :]\n",
    "trade_count = last['cum_long_win'] + last['cum_long_lose'] + last['cum_short_win'] + last['cum_short_lose']\n",
    "\n",
    "fee = trade_count * 2 * fee_rate_pct\n",
    "slippage = trade_count * 2 * slippage_pct\n",
    "\n",
    "# print(df.to_string())\n",
    "print(df)\n",
    "print('-----------------------')\n",
    "print(last['cum_long_win'], last['cum_long_lose'], last['cum_short_win'], last['cum_short_lose'])\n",
    "print('trade_count : ', trade_count)\n",
    "print('fee%: ', fee)\n",
    "print('slippage%: ', slippage)\n",
    "print(\"MDD_long: \", df['dd_long'].max())\n",
    "print(\"MDD_short: \", df['dd_short'].max())"
   ],
   "metadata": {
    "collapsed": false,
    "pycharm": {
     "name": "#%%\n",
     "is_executing": false
    }
   }
  }
 ],
 "metadata": {
  "language_info": {
   "codemirror_mode": {
    "name": "ipython",
    "version": 2
   },
   "file_extension": ".py",
   "mimetype": "text/x-python",
   "name": "python",
   "nbconvert_exporter": "python",
   "pygments_lexer": "ipython2",
   "version": "2.7.6"
  },
  "kernelspec": {
   "name": "python3",
   "language": "python",
   "display_name": "Python 3"
  },
  "pycharm": {
   "stem_cell": {
    "cell_type": "raw",
    "source": [],
    "metadata": {
     "collapsed": false
    }
   }
  }
 },
 "nbformat": 4,
 "nbformat_minor": 0
}