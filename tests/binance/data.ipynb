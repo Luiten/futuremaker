{
 "cells": [
  {
   "cell_type": "code",
   "execution_count": 8,
   "metadata": {
    "collapsed": true,
    "pycharm": {
     "is_executing": false
    }
   },
   "outputs": [
    {
     "data": {
      "text/plain": "                         open      high       low     close       volume\ntime                                                                    \n2018-01-01 00:00:00  13715.65  13715.65  13400.01  13529.01   443.356199\n2018-01-01 01:00:00  13528.99  13595.89  13155.38  13203.06   383.697006\n2018-01-01 02:00:00  13203.00  13418.43  13200.00  13330.18   429.064572\n2018-01-01 03:00:00  13330.26  13611.27  13290.00  13410.03   420.087030\n2018-01-01 04:00:00  13434.98  13623.29  13322.15  13601.01   340.807329\n...                       ...       ...       ...       ...          ...\n2020-01-17 00:00:00   8720.15   8743.99   8672.44   8690.31  1988.852577\n2020-01-17 01:00:00   8690.25   8738.80   8677.01   8738.51  1156.787342\n2020-01-17 02:00:00   8738.80   8780.00   8718.16   8757.06  2083.041074\n2020-01-17 03:00:00   8757.29   8840.40   8751.05   8786.43  3103.062255\n2020-01-17 04:00:00   8786.43   8808.92   8760.00   8791.05  1329.841605\n\n[17829 rows x 5 columns]",
      "text/html": "<div>\n<style scoped>\n    .dataframe tbody tr th:only-of-type {\n        vertical-align: middle;\n    }\n\n    .dataframe tbody tr th {\n        vertical-align: top;\n    }\n\n    .dataframe thead th {\n        text-align: right;\n    }\n</style>\n<table border=\"1\" class=\"dataframe\">\n  <thead>\n    <tr style=\"text-align: right;\">\n      <th></th>\n      <th>open</th>\n      <th>high</th>\n      <th>low</th>\n      <th>close</th>\n      <th>volume</th>\n    </tr>\n    <tr>\n      <th>time</th>\n      <th></th>\n      <th></th>\n      <th></th>\n      <th></th>\n      <th></th>\n    </tr>\n  </thead>\n  <tbody>\n    <tr>\n      <th>2018-01-01 00:00:00</th>\n      <td>13715.65</td>\n      <td>13715.65</td>\n      <td>13400.01</td>\n      <td>13529.01</td>\n      <td>443.356199</td>\n    </tr>\n    <tr>\n      <th>2018-01-01 01:00:00</th>\n      <td>13528.99</td>\n      <td>13595.89</td>\n      <td>13155.38</td>\n      <td>13203.06</td>\n      <td>383.697006</td>\n    </tr>\n    <tr>\n      <th>2018-01-01 02:00:00</th>\n      <td>13203.00</td>\n      <td>13418.43</td>\n      <td>13200.00</td>\n      <td>13330.18</td>\n      <td>429.064572</td>\n    </tr>\n    <tr>\n      <th>2018-01-01 03:00:00</th>\n      <td>13330.26</td>\n      <td>13611.27</td>\n      <td>13290.00</td>\n      <td>13410.03</td>\n      <td>420.087030</td>\n    </tr>\n    <tr>\n      <th>2018-01-01 04:00:00</th>\n      <td>13434.98</td>\n      <td>13623.29</td>\n      <td>13322.15</td>\n      <td>13601.01</td>\n      <td>340.807329</td>\n    </tr>\n    <tr>\n      <th>...</th>\n      <td>...</td>\n      <td>...</td>\n      <td>...</td>\n      <td>...</td>\n      <td>...</td>\n    </tr>\n    <tr>\n      <th>2020-01-17 00:00:00</th>\n      <td>8720.15</td>\n      <td>8743.99</td>\n      <td>8672.44</td>\n      <td>8690.31</td>\n      <td>1988.852577</td>\n    </tr>\n    <tr>\n      <th>2020-01-17 01:00:00</th>\n      <td>8690.25</td>\n      <td>8738.80</td>\n      <td>8677.01</td>\n      <td>8738.51</td>\n      <td>1156.787342</td>\n    </tr>\n    <tr>\n      <th>2020-01-17 02:00:00</th>\n      <td>8738.80</td>\n      <td>8780.00</td>\n      <td>8718.16</td>\n      <td>8757.06</td>\n      <td>2083.041074</td>\n    </tr>\n    <tr>\n      <th>2020-01-17 03:00:00</th>\n      <td>8757.29</td>\n      <td>8840.40</td>\n      <td>8751.05</td>\n      <td>8786.43</td>\n      <td>3103.062255</td>\n    </tr>\n    <tr>\n      <th>2020-01-17 04:00:00</th>\n      <td>8786.43</td>\n      <td>8808.92</td>\n      <td>8760.00</td>\n      <td>8791.05</td>\n      <td>1329.841605</td>\n    </tr>\n  </tbody>\n</table>\n<p>17829 rows × 5 columns</p>\n</div>"
     },
     "metadata": {},
     "output_type": "execute_result",
     "execution_count": 8
    }
   ],
   "source": [
    "import pandas as pd\n",
    "import datetime\n",
    "\n",
    "filepath = '../../candle_data/BINANCE_BTCUSDT, 60.csv'\n",
    "\n",
    "df = pd.read_csv(filepath, index_col='time',\n",
    "     usecols=['time', 'open', 'high', 'low', 'close', 'volume'],\n",
    "     parse_dates=['time'],\n",
    "     date_parser=lambda epoch: pd.to_datetime(epoch, unit='s')\n",
    "     )\n",
    "df"
   ]
  },
  {
   "cell_type": "code",
   "execution_count": 9,
   "outputs": [
    {
     "data": {
      "text/plain": "                         open      high       low     close       volume  \\\ntime                                                                       \n2018-01-01 00:00:00  13715.65  13715.65  13400.01  13529.01   443.356199   \n2018-01-01 01:00:00  13528.99  13595.89  13155.38  13203.06   383.697006   \n2018-01-01 02:00:00  13203.00  13418.43  13200.00  13330.18   429.064572   \n2018-01-01 03:00:00  13330.26  13611.27  13290.00  13410.03   420.087030   \n2018-01-01 04:00:00  13434.98  13623.29  13322.15  13601.01   340.807329   \n...                       ...       ...       ...       ...          ...   \n2020-01-17 00:00:00   8720.15   8743.99   8672.44   8690.31  1988.852577   \n2020-01-17 01:00:00   8690.25   8738.80   8677.01   8738.51  1156.787342   \n2020-01-17 02:00:00   8738.80   8780.00   8718.16   8757.06  2083.041074   \n2020-01-17 03:00:00   8757.29   8840.40   8751.05   8786.43  3103.062255   \n2020-01-17 04:00:00   8786.43   8808.92   8760.00   8791.05  1329.841605   \n\n                     direction  directon2  change  volatility  period  \\\ntime                                                                    \n2018-01-01 00:00:00        NaN        NaN     NaN         NaN     NaN   \n2018-01-01 01:00:00        NaN        NaN -325.95         NaN     NaN   \n2018-01-01 02:00:00        NaN        NaN  127.12         NaN     NaN   \n2018-01-01 03:00:00    -118.98    -118.98   79.85      532.92     0.0   \n2018-01-01 04:00:00     397.95     397.95  190.98      397.95     3.0   \n...                        ...        ...     ...         ...     ...   \n2020-01-17 00:00:00      -0.84      -0.84  -29.70       59.30     0.0   \n2020-01-17 01:00:00      18.13      18.13   48.20       78.27     0.0   \n2020-01-17 02:00:00      37.05      37.05   18.55       96.45     1.0   \n2020-01-17 03:00:00      96.12      96.12   29.37       96.12     3.0   \n2020-01-17 04:00:00      52.54      52.54    4.62       52.54     3.0   \n\n                             kama  \ntime                               \n2018-01-01 00:00:00           NaN  \n2018-01-01 01:00:00           NaN  \n2018-01-01 02:00:00           NaN  \n2018-01-01 03:00:00  13410.030000  \n2018-01-01 04:00:00  13437.892222  \n...                           ...  \n2020-01-17 00:00:00           NaN  \n2020-01-17 01:00:00           NaN  \n2020-01-17 02:00:00           NaN  \n2020-01-17 03:00:00           NaN  \n2020-01-17 04:00:00           NaN  \n\n[17829 rows x 11 columns]",
      "text/html": "<div>\n<style scoped>\n    .dataframe tbody tr th:only-of-type {\n        vertical-align: middle;\n    }\n\n    .dataframe tbody tr th {\n        vertical-align: top;\n    }\n\n    .dataframe thead th {\n        text-align: right;\n    }\n</style>\n<table border=\"1\" class=\"dataframe\">\n  <thead>\n    <tr style=\"text-align: right;\">\n      <th></th>\n      <th>open</th>\n      <th>high</th>\n      <th>low</th>\n      <th>close</th>\n      <th>volume</th>\n      <th>direction</th>\n      <th>directon2</th>\n      <th>change</th>\n      <th>volatility</th>\n      <th>period</th>\n      <th>kama</th>\n    </tr>\n    <tr>\n      <th>time</th>\n      <th></th>\n      <th></th>\n      <th></th>\n      <th></th>\n      <th></th>\n      <th></th>\n      <th></th>\n      <th></th>\n      <th></th>\n      <th></th>\n      <th></th>\n    </tr>\n  </thead>\n  <tbody>\n    <tr>\n      <th>2018-01-01 00:00:00</th>\n      <td>13715.65</td>\n      <td>13715.65</td>\n      <td>13400.01</td>\n      <td>13529.01</td>\n      <td>443.356199</td>\n      <td>NaN</td>\n      <td>NaN</td>\n      <td>NaN</td>\n      <td>NaN</td>\n      <td>NaN</td>\n      <td>NaN</td>\n    </tr>\n    <tr>\n      <th>2018-01-01 01:00:00</th>\n      <td>13528.99</td>\n      <td>13595.89</td>\n      <td>13155.38</td>\n      <td>13203.06</td>\n      <td>383.697006</td>\n      <td>NaN</td>\n      <td>NaN</td>\n      <td>-325.95</td>\n      <td>NaN</td>\n      <td>NaN</td>\n      <td>NaN</td>\n    </tr>\n    <tr>\n      <th>2018-01-01 02:00:00</th>\n      <td>13203.00</td>\n      <td>13418.43</td>\n      <td>13200.00</td>\n      <td>13330.18</td>\n      <td>429.064572</td>\n      <td>NaN</td>\n      <td>NaN</td>\n      <td>127.12</td>\n      <td>NaN</td>\n      <td>NaN</td>\n      <td>NaN</td>\n    </tr>\n    <tr>\n      <th>2018-01-01 03:00:00</th>\n      <td>13330.26</td>\n      <td>13611.27</td>\n      <td>13290.00</td>\n      <td>13410.03</td>\n      <td>420.087030</td>\n      <td>-118.98</td>\n      <td>-118.98</td>\n      <td>79.85</td>\n      <td>532.92</td>\n      <td>0.0</td>\n      <td>13410.030000</td>\n    </tr>\n    <tr>\n      <th>2018-01-01 04:00:00</th>\n      <td>13434.98</td>\n      <td>13623.29</td>\n      <td>13322.15</td>\n      <td>13601.01</td>\n      <td>340.807329</td>\n      <td>397.95</td>\n      <td>397.95</td>\n      <td>190.98</td>\n      <td>397.95</td>\n      <td>3.0</td>\n      <td>13437.892222</td>\n    </tr>\n    <tr>\n      <th>...</th>\n      <td>...</td>\n      <td>...</td>\n      <td>...</td>\n      <td>...</td>\n      <td>...</td>\n      <td>...</td>\n      <td>...</td>\n      <td>...</td>\n      <td>...</td>\n      <td>...</td>\n      <td>...</td>\n    </tr>\n    <tr>\n      <th>2020-01-17 00:00:00</th>\n      <td>8720.15</td>\n      <td>8743.99</td>\n      <td>8672.44</td>\n      <td>8690.31</td>\n      <td>1988.852577</td>\n      <td>-0.84</td>\n      <td>-0.84</td>\n      <td>-29.70</td>\n      <td>59.30</td>\n      <td>0.0</td>\n      <td>NaN</td>\n    </tr>\n    <tr>\n      <th>2020-01-17 01:00:00</th>\n      <td>8690.25</td>\n      <td>8738.80</td>\n      <td>8677.01</td>\n      <td>8738.51</td>\n      <td>1156.787342</td>\n      <td>18.13</td>\n      <td>18.13</td>\n      <td>48.20</td>\n      <td>78.27</td>\n      <td>0.0</td>\n      <td>NaN</td>\n    </tr>\n    <tr>\n      <th>2020-01-17 02:00:00</th>\n      <td>8738.80</td>\n      <td>8780.00</td>\n      <td>8718.16</td>\n      <td>8757.06</td>\n      <td>2083.041074</td>\n      <td>37.05</td>\n      <td>37.05</td>\n      <td>18.55</td>\n      <td>96.45</td>\n      <td>1.0</td>\n      <td>NaN</td>\n    </tr>\n    <tr>\n      <th>2020-01-17 03:00:00</th>\n      <td>8757.29</td>\n      <td>8840.40</td>\n      <td>8751.05</td>\n      <td>8786.43</td>\n      <td>3103.062255</td>\n      <td>96.12</td>\n      <td>96.12</td>\n      <td>29.37</td>\n      <td>96.12</td>\n      <td>3.0</td>\n      <td>NaN</td>\n    </tr>\n    <tr>\n      <th>2020-01-17 04:00:00</th>\n      <td>8786.43</td>\n      <td>8808.92</td>\n      <td>8760.00</td>\n      <td>8791.05</td>\n      <td>1329.841605</td>\n      <td>52.54</td>\n      <td>52.54</td>\n      <td>4.62</td>\n      <td>52.54</td>\n      <td>3.0</td>\n      <td>NaN</td>\n    </tr>\n  </tbody>\n</table>\n<p>17829 rows × 11 columns</p>\n</div>"
     },
     "metadata": {},
     "output_type": "execute_result",
     "execution_count": 9
    }
   ],
   "source": [
    "import numpy as np\n",
    "period = 3\n",
    "fast_period = 2\n",
    "slow_period = 30\n",
    "df['direction'] = df['close'].diff(period)\n",
    "df['directon2'] = df['close'] - df['close'].shift(period)\n",
    "df['change'] = df.close.diff()\n",
    "df['volatility'] = df.close.diff().abs().rolling(period).sum()\n",
    "efficiency_ratio = df['direction'].abs() / df['volatility']\n",
    "df['period'] = (efficiency_ratio * period).dropna().astype(int)\n",
    "fast = 2.0 / (fast_period + 1.0)\n",
    "slow = 2.0 / (slow_period + 1.0)\n",
    "sc = (efficiency_ratio * (fast - slow) + slow) ** 2.0\n",
    "hl2 = (df['high'] + df['low']) / 2.0\n",
    "answer = np.zeros(sc.size)\n",
    "N = len(answer)\n",
    "first_value = True\n",
    "# k = nz(k[1])+(sc*(hl2-nz(k[1])))\n",
    "for i in range(N):\n",
    "    if sc[i] != sc[i]:\n",
    "        answer[i] = np.nan\n",
    "    else:\n",
    "        if first_value:\n",
    "            answer[i] = df['close'][i]\n",
    "            first_value = False\n",
    "        else:\n",
    "            # answer[i] = answer[i - 1] + sc[i] * (price[i] - answer[i - 1])\n",
    "            answer[i] = answer[i - 1] + sc[i] * (hl2[i] - answer[i - 1])\n",
    "df['kama'] = answer\n",
    "df\n"
   ],
   "metadata": {
    "collapsed": false,
    "pycharm": {
     "name": "#%%\n",
     "is_executing": false
    }
   }
  },
  {
   "cell_type": "code",
   "execution_count": 3,
   "outputs": [
    {
     "data": {
      "text/plain": "                         open      high       low     close       volume  \\\ntime                                                                       \n2018-01-01 00:00:00  13715.65  13715.65  13400.01  13529.01   443.356199   \n2018-01-01 01:00:00  13528.99  13595.89  13155.38  13203.06   383.697006   \n2018-01-01 02:00:00  13203.00  13418.43  13200.00  13330.18   429.064572   \n2018-01-01 03:00:00  13330.26  13611.27  13290.00  13410.03   420.087030   \n2018-01-01 04:00:00  13434.98  13623.29  13322.15  13601.01   340.807329   \n...                       ...       ...       ...       ...          ...   \n2020-01-17 00:00:00   8720.15   8743.99   8672.44   8690.31  1988.852577   \n2020-01-17 01:00:00   8690.25   8738.80   8677.01   8738.51  1156.787342   \n2020-01-17 02:00:00   8738.80   8780.00   8718.16   8757.06  2083.041074   \n2020-01-17 03:00:00   8757.29   8840.40   8751.05   8786.43  3103.062255   \n2020-01-17 04:00:00   8786.43   8808.92   8760.00   8791.05  1329.841605   \n\n                     er_den        sc   kk    answer  \ntime                                                  \n2018-01-01 00:00:00     NaN       NaN  0.0  13529.01  \n2018-01-01 01:00:00     NaN       NaN  0.0       NaN  \n2018-01-01 02:00:00     NaN       NaN  0.0       NaN  \n2018-01-01 03:00:00     NaN       NaN  0.0       NaN  \n2018-01-01 04:00:00     NaN       NaN  0.0       NaN  \n...                     ...       ...  ...       ...  \n2020-01-17 00:00:00  303.45  0.015235  0.0       NaN  \n2020-01-17 01:00:00  326.94  0.020770  0.0       NaN  \n2020-01-17 02:00:00  336.38  0.036633  0.0       NaN  \n2020-01-17 03:00:00  341.91  0.039635  0.0       NaN  \n2020-01-17 04:00:00  296.70  0.108963  0.0       NaN  \n\n[17829 rows x 9 columns]",
      "text/html": "<div>\n<style scoped>\n    .dataframe tbody tr th:only-of-type {\n        vertical-align: middle;\n    }\n\n    .dataframe tbody tr th {\n        vertical-align: top;\n    }\n\n    .dataframe thead th {\n        text-align: right;\n    }\n</style>\n<table border=\"1\" class=\"dataframe\">\n  <thead>\n    <tr style=\"text-align: right;\">\n      <th></th>\n      <th>open</th>\n      <th>high</th>\n      <th>low</th>\n      <th>close</th>\n      <th>volume</th>\n      <th>er_den</th>\n      <th>sc</th>\n      <th>kk</th>\n      <th>answer</th>\n    </tr>\n    <tr>\n      <th>time</th>\n      <th></th>\n      <th></th>\n      <th></th>\n      <th></th>\n      <th></th>\n      <th></th>\n      <th></th>\n      <th></th>\n      <th></th>\n    </tr>\n  </thead>\n  <tbody>\n    <tr>\n      <th>2018-01-01 00:00:00</th>\n      <td>13715.65</td>\n      <td>13715.65</td>\n      <td>13400.01</td>\n      <td>13529.01</td>\n      <td>443.356199</td>\n      <td>NaN</td>\n      <td>NaN</td>\n      <td>0.0</td>\n      <td>13529.01</td>\n    </tr>\n    <tr>\n      <th>2018-01-01 01:00:00</th>\n      <td>13528.99</td>\n      <td>13595.89</td>\n      <td>13155.38</td>\n      <td>13203.06</td>\n      <td>383.697006</td>\n      <td>NaN</td>\n      <td>NaN</td>\n      <td>0.0</td>\n      <td>NaN</td>\n    </tr>\n    <tr>\n      <th>2018-01-01 02:00:00</th>\n      <td>13203.00</td>\n      <td>13418.43</td>\n      <td>13200.00</td>\n      <td>13330.18</td>\n      <td>429.064572</td>\n      <td>NaN</td>\n      <td>NaN</td>\n      <td>0.0</td>\n      <td>NaN</td>\n    </tr>\n    <tr>\n      <th>2018-01-01 03:00:00</th>\n      <td>13330.26</td>\n      <td>13611.27</td>\n      <td>13290.00</td>\n      <td>13410.03</td>\n      <td>420.087030</td>\n      <td>NaN</td>\n      <td>NaN</td>\n      <td>0.0</td>\n      <td>NaN</td>\n    </tr>\n    <tr>\n      <th>2018-01-01 04:00:00</th>\n      <td>13434.98</td>\n      <td>13623.29</td>\n      <td>13322.15</td>\n      <td>13601.01</td>\n      <td>340.807329</td>\n      <td>NaN</td>\n      <td>NaN</td>\n      <td>0.0</td>\n      <td>NaN</td>\n    </tr>\n    <tr>\n      <th>...</th>\n      <td>...</td>\n      <td>...</td>\n      <td>...</td>\n      <td>...</td>\n      <td>...</td>\n      <td>...</td>\n      <td>...</td>\n      <td>...</td>\n      <td>...</td>\n    </tr>\n    <tr>\n      <th>2020-01-17 00:00:00</th>\n      <td>8720.15</td>\n      <td>8743.99</td>\n      <td>8672.44</td>\n      <td>8690.31</td>\n      <td>1988.852577</td>\n      <td>303.45</td>\n      <td>0.015235</td>\n      <td>0.0</td>\n      <td>NaN</td>\n    </tr>\n    <tr>\n      <th>2020-01-17 01:00:00</th>\n      <td>8690.25</td>\n      <td>8738.80</td>\n      <td>8677.01</td>\n      <td>8738.51</td>\n      <td>1156.787342</td>\n      <td>326.94</td>\n      <td>0.020770</td>\n      <td>0.0</td>\n      <td>NaN</td>\n    </tr>\n    <tr>\n      <th>2020-01-17 02:00:00</th>\n      <td>8738.80</td>\n      <td>8780.00</td>\n      <td>8718.16</td>\n      <td>8757.06</td>\n      <td>2083.041074</td>\n      <td>336.38</td>\n      <td>0.036633</td>\n      <td>0.0</td>\n      <td>NaN</td>\n    </tr>\n    <tr>\n      <th>2020-01-17 03:00:00</th>\n      <td>8757.29</td>\n      <td>8840.40</td>\n      <td>8751.05</td>\n      <td>8786.43</td>\n      <td>3103.062255</td>\n      <td>341.91</td>\n      <td>0.039635</td>\n      <td>0.0</td>\n      <td>NaN</td>\n    </tr>\n    <tr>\n      <th>2020-01-17 04:00:00</th>\n      <td>8786.43</td>\n      <td>8808.92</td>\n      <td>8760.00</td>\n      <td>8791.05</td>\n      <td>1329.841605</td>\n      <td>296.70</td>\n      <td>0.108963</td>\n      <td>0.0</td>\n      <td>NaN</td>\n    </tr>\n  </tbody>\n</table>\n<p>17829 rows × 9 columns</p>\n</div>"
     },
     "metadata": {},
     "output_type": "execute_result",
     "execution_count": 3
    }
   ],
   "source": [
    "price = df['close']\n",
    "n = 12\n",
    "pow1, pow2 = 2,30\n",
    "import numpy as np\n",
    "\n",
    "absDiffx = abs(price - price.shift(1))\n",
    "ER_num = abs(price - price.shift(n))\n",
    "# ER_den = pd.stats.moments.rolling_sum(absDiffx, n)\n",
    "ER_den = price.diff().abs().rolling(n).sum()\n",
    "df['er_den'] = ER_den\n",
    "\n",
    "ER = ER_num / ER_den\n",
    "\n",
    "sc = (ER * (2.0 / (pow1 + 1) - 2.0 / (pow2 + 1.0)) + 2 / (pow2 + 1.0)) ** 2.0\n",
    "df['sc'] = sc\n",
    "df['kk'] = np.zeros(sc.size)\n",
    "# k = nz(k[1])+(sc*(hl2-nz(k[1])))\n",
    "hl2 = (df['high'] + df ['low']) / 2\n",
    "\n",
    "answer = np.zeros(sc.size)\n",
    "N = len(answer)\n",
    "first_value = True\n",
    "# k = nz(k[1])+(sc*(hl2-nz(k[1])))\n",
    "for i in range(N):\n",
    "    if sc[i] != sc[i]:\n",
    "        answer[i] = np.nan\n",
    "    else:\n",
    "        if first_value:\n",
    "            answer[i] = price[i]\n",
    "            first_value = False\n",
    "        else:\n",
    "            # answer[i] = answer[i - 1] + sc[i] * (price[i] - answer[i - 1])\n",
    "            answer[i] = answer[i - 1] + sc[i] * (hl2[i] - answer[i - 1])\n",
    "df['answer']=answer\n",
    "df"
   ],
   "metadata": {
    "collapsed": false,
    "pycharm": {
     "name": "#%%\n",
     "is_executing": false
    }
   }
  },
  {
   "cell_type": "code",
   "execution_count": null,
   "outputs": [],
   "source": [],
   "metadata": {
    "collapsed": false,
    "pycharm": {
     "name": "#%%\n"
    }
   }
  },
  {
   "cell_type": "code",
   "execution_count": null,
   "outputs": [],
   "source": [
    "answer = np.zeros(sc.size)\n",
    "N = len(answer)\n",
    "first_value = True\n",
    "# k = nz(k[1])+(sc*(hl2-nz(k[1])))\n",
    "for i in range(N):\n",
    "    if sc[i] != sc[i]:\n",
    "        answer[i] = np.nan\n",
    "    else:\n",
    "        if first_value:\n",
    "            answer[i] = price[i]\n",
    "            first_value = False\n",
    "        else:\n",
    "            answer[i] = answer[i - 1] + sc[i] * (price[i] - answer[i - 1])\n",
    "df['kama'] = answer"
   ],
   "metadata": {
    "collapsed": false,
    "pycharm": {
     "name": "#%%\n"
    }
   }
  },
  {
   "cell_type": "code",
   "execution_count": 64,
   "metadata": {
    "pycharm": {
     "is_executing": false,
     "name": "#%%\n"
    }
   },
   "outputs": [
    {
     "data": {
      "text/plain": "                         open      high       low     close       volume  \\\ntime                                                                       \n2018-01-01 00:00:00  13715.65  13715.65  13400.01  13529.01   443.356199   \n2018-01-01 01:00:00  13528.99  13595.89  13155.38  13203.06   383.697006   \n2018-01-01 02:00:00  13203.00  13418.43  13200.00  13330.18   429.064572   \n2018-01-01 03:00:00  13330.26  13611.27  13290.00  13410.03   420.087030   \n2018-01-01 04:00:00  13434.98  13623.29  13322.15  13601.01   340.807329   \n...                       ...       ...       ...       ...          ...   \n2020-01-17 00:00:00   8720.15   8743.99   8672.44   8690.31  1988.852577   \n2020-01-17 01:00:00   8690.25   8738.80   8677.01   8738.51  1156.787342   \n2020-01-17 02:00:00   8738.80   8780.00   8718.16   8757.06  2083.041074   \n2020-01-17 03:00:00   8757.29   8840.40   8751.05   8786.43  3103.062255   \n2020-01-17 04:00:00   8786.43   8808.92   8760.00   8791.05  1329.841605   \n\n                     er_den        sc           kk       answer  direction  \\\ntime                                                                         \n2018-01-01 00:00:00     NaN       NaN          NaN          NaN        NaN   \n2018-01-01 01:00:00     NaN       NaN          NaN          NaN        NaN   \n2018-01-01 02:00:00     NaN       NaN          NaN          NaN        NaN   \n2018-01-01 03:00:00     NaN       NaN          NaN          NaN        NaN   \n2018-01-01 04:00:00     NaN       NaN          NaN          NaN        NaN   \n...                     ...       ...          ...          ...        ...   \n2020-01-17 00:00:00  303.45  0.015235  8852.409645  8700.893270      29.69   \n2020-01-17 01:00:00  326.94  0.020770  8871.808145  8701.674566      43.22   \n2020-01-17 02:00:00  336.38  0.036633  9059.308148  8703.703506      70.88   \n2020-01-17 03:00:00  341.91  0.039635  9105.307494  8706.982345      76.41   \n2020-01-17 04:00:00  296.70  0.108963  9744.329916  8716.142616     130.86   \n\n                     volatility  period  \ntime                                     \n2018-01-01 00:00:00         NaN     NaN  \n2018-01-01 01:00:00         NaN     NaN  \n2018-01-01 02:00:00         NaN     NaN  \n2018-01-01 03:00:00         NaN     NaN  \n2018-01-01 04:00:00         NaN     NaN  \n...                         ...     ...  \n2020-01-17 00:00:00      303.45     1.0  \n2020-01-17 01:00:00      326.94     1.0  \n2020-01-17 02:00:00      336.38     2.0  \n2020-01-17 03:00:00      341.91     2.0  \n2020-01-17 04:00:00      296.70     5.0  \n\n[17829 rows x 12 columns]",
      "text/html": "<div>\n<style scoped>\n    .dataframe tbody tr th:only-of-type {\n        vertical-align: middle;\n    }\n\n    .dataframe tbody tr th {\n        vertical-align: top;\n    }\n\n    .dataframe thead th {\n        text-align: right;\n    }\n</style>\n<table border=\"1\" class=\"dataframe\">\n  <thead>\n    <tr style=\"text-align: right;\">\n      <th></th>\n      <th>open</th>\n      <th>high</th>\n      <th>low</th>\n      <th>close</th>\n      <th>volume</th>\n      <th>er_den</th>\n      <th>sc</th>\n      <th>kk</th>\n      <th>answer</th>\n      <th>direction</th>\n      <th>volatility</th>\n      <th>period</th>\n    </tr>\n    <tr>\n      <th>time</th>\n      <th></th>\n      <th></th>\n      <th></th>\n      <th></th>\n      <th></th>\n      <th></th>\n      <th></th>\n      <th></th>\n      <th></th>\n      <th></th>\n      <th></th>\n      <th></th>\n    </tr>\n  </thead>\n  <tbody>\n    <tr>\n      <th>2018-01-01 00:00:00</th>\n      <td>13715.65</td>\n      <td>13715.65</td>\n      <td>13400.01</td>\n      <td>13529.01</td>\n      <td>443.356199</td>\n      <td>NaN</td>\n      <td>NaN</td>\n      <td>NaN</td>\n      <td>NaN</td>\n      <td>NaN</td>\n      <td>NaN</td>\n      <td>NaN</td>\n    </tr>\n    <tr>\n      <th>2018-01-01 01:00:00</th>\n      <td>13528.99</td>\n      <td>13595.89</td>\n      <td>13155.38</td>\n      <td>13203.06</td>\n      <td>383.697006</td>\n      <td>NaN</td>\n      <td>NaN</td>\n      <td>NaN</td>\n      <td>NaN</td>\n      <td>NaN</td>\n      <td>NaN</td>\n      <td>NaN</td>\n    </tr>\n    <tr>\n      <th>2018-01-01 02:00:00</th>\n      <td>13203.00</td>\n      <td>13418.43</td>\n      <td>13200.00</td>\n      <td>13330.18</td>\n      <td>429.064572</td>\n      <td>NaN</td>\n      <td>NaN</td>\n      <td>NaN</td>\n      <td>NaN</td>\n      <td>NaN</td>\n      <td>NaN</td>\n      <td>NaN</td>\n    </tr>\n    <tr>\n      <th>2018-01-01 03:00:00</th>\n      <td>13330.26</td>\n      <td>13611.27</td>\n      <td>13290.00</td>\n      <td>13410.03</td>\n      <td>420.087030</td>\n      <td>NaN</td>\n      <td>NaN</td>\n      <td>NaN</td>\n      <td>NaN</td>\n      <td>NaN</td>\n      <td>NaN</td>\n      <td>NaN</td>\n    </tr>\n    <tr>\n      <th>2018-01-01 04:00:00</th>\n      <td>13434.98</td>\n      <td>13623.29</td>\n      <td>13322.15</td>\n      <td>13601.01</td>\n      <td>340.807329</td>\n      <td>NaN</td>\n      <td>NaN</td>\n      <td>NaN</td>\n      <td>NaN</td>\n      <td>NaN</td>\n      <td>NaN</td>\n      <td>NaN</td>\n    </tr>\n    <tr>\n      <th>...</th>\n      <td>...</td>\n      <td>...</td>\n      <td>...</td>\n      <td>...</td>\n      <td>...</td>\n      <td>...</td>\n      <td>...</td>\n      <td>...</td>\n      <td>...</td>\n      <td>...</td>\n      <td>...</td>\n      <td>...</td>\n    </tr>\n    <tr>\n      <th>2020-01-17 00:00:00</th>\n      <td>8720.15</td>\n      <td>8743.99</td>\n      <td>8672.44</td>\n      <td>8690.31</td>\n      <td>1988.852577</td>\n      <td>303.45</td>\n      <td>0.015235</td>\n      <td>8852.409645</td>\n      <td>8700.893270</td>\n      <td>29.69</td>\n      <td>303.45</td>\n      <td>1.0</td>\n    </tr>\n    <tr>\n      <th>2020-01-17 01:00:00</th>\n      <td>8690.25</td>\n      <td>8738.80</td>\n      <td>8677.01</td>\n      <td>8738.51</td>\n      <td>1156.787342</td>\n      <td>326.94</td>\n      <td>0.020770</td>\n      <td>8871.808145</td>\n      <td>8701.674566</td>\n      <td>43.22</td>\n      <td>326.94</td>\n      <td>1.0</td>\n    </tr>\n    <tr>\n      <th>2020-01-17 02:00:00</th>\n      <td>8738.80</td>\n      <td>8780.00</td>\n      <td>8718.16</td>\n      <td>8757.06</td>\n      <td>2083.041074</td>\n      <td>336.38</td>\n      <td>0.036633</td>\n      <td>9059.308148</td>\n      <td>8703.703506</td>\n      <td>70.88</td>\n      <td>336.38</td>\n      <td>2.0</td>\n    </tr>\n    <tr>\n      <th>2020-01-17 03:00:00</th>\n      <td>8757.29</td>\n      <td>8840.40</td>\n      <td>8751.05</td>\n      <td>8786.43</td>\n      <td>3103.062255</td>\n      <td>341.91</td>\n      <td>0.039635</td>\n      <td>9105.307494</td>\n      <td>8706.982345</td>\n      <td>76.41</td>\n      <td>341.91</td>\n      <td>2.0</td>\n    </tr>\n    <tr>\n      <th>2020-01-17 04:00:00</th>\n      <td>8786.43</td>\n      <td>8808.92</td>\n      <td>8760.00</td>\n      <td>8791.05</td>\n      <td>1329.841605</td>\n      <td>296.70</td>\n      <td>0.108963</td>\n      <td>9744.329916</td>\n      <td>8716.142616</td>\n      <td>130.86</td>\n      <td>296.70</td>\n      <td>5.0</td>\n    </tr>\n  </tbody>\n</table>\n<p>17829 rows × 12 columns</p>\n</div>"
     },
     "metadata": {},
     "output_type": "execute_result",
     "execution_count": 64
    }
   ],
   "source": [
    "df"
   ]
  },
  {
   "cell_type": "code",
   "execution_count": 66,
   "outputs": [
    {
     "data": {
      "text/plain": "time\n2018-01-01 00:00:00    13557.830\n2018-01-01 01:00:00    13375.635\n2018-01-01 02:00:00    13309.215\n2018-01-01 03:00:00    13450.635\n2018-01-01 04:00:00    13472.720\n                         ...    \n2020-01-17 00:00:00     8708.215\n2020-01-17 01:00:00     8707.905\n2020-01-17 02:00:00     8749.080\n2020-01-17 03:00:00     8795.725\n2020-01-17 04:00:00     8784.460\nLength: 17829, dtype: float64"
     },
     "metadata": {},
     "output_type": "execute_result",
     "execution_count": 66
    }
   ],
   "source": [
    " (df['high'] + df ['low']) / 2"
   ],
   "metadata": {
    "collapsed": false,
    "pycharm": {
     "name": "#%%\n",
     "is_executing": false
    }
   }
  },
  {
   "cell_type": "code",
   "execution_count": 73,
   "outputs": [
    {
     "data": {
      "text/plain": "                         open      high       low     close       volume  \\\ntime                                                                       \n2018-01-01 00:00:00  13715.65  13715.65  13400.01  13529.01   443.356199   \n2018-01-01 01:00:00  13528.99  13595.89  13155.38  13203.06   383.697006   \n2018-01-01 02:00:00  13203.00  13418.43  13200.00  13330.18   429.064572   \n2018-01-01 03:00:00  13330.26  13611.27  13290.00  13410.03   420.087030   \n2018-01-01 04:00:00  13434.98  13623.29  13322.15  13601.01   340.807329   \n...                       ...       ...       ...       ...          ...   \n2020-01-17 00:00:00   8720.15   8743.99   8672.44   8690.31  1988.852577   \n2020-01-17 01:00:00   8690.25   8738.80   8677.01   8738.51  1156.787342   \n2020-01-17 02:00:00   8738.80   8780.00   8718.16   8757.06  2083.041074   \n2020-01-17 03:00:00   8757.29   8840.40   8751.05   8786.43  3103.062255   \n2020-01-17 04:00:00   8786.43   8808.92   8760.00   8791.05  1329.841605   \n\n                     er_den        sc   kk       answer  direction  \\\ntime                                                                 \n2018-01-01 00:00:00     NaN       NaN  0.0          NaN        NaN   \n2018-01-01 01:00:00     NaN       NaN  0.0          NaN        NaN   \n2018-01-01 02:00:00     NaN       NaN  0.0          NaN        NaN   \n2018-01-01 03:00:00     NaN       NaN  0.0          NaN        NaN   \n2018-01-01 04:00:00     NaN       NaN  0.0          NaN        NaN   \n...                     ...       ...  ...          ...        ...   \n2020-01-17 00:00:00  303.45  0.015235  0.0  8694.276865     -29.69   \n2020-01-17 01:00:00  326.94  0.020770  0.0  8694.559920      43.22   \n2020-01-17 02:00:00  336.38  0.036633  0.0  8696.557159      70.88   \n2020-01-17 03:00:00  341.91  0.039635  0.0  8700.487646      76.41   \n2020-01-17 04:00:00  296.70  0.108963  0.0  8709.637533     130.86   \n\n                     volatility  period         kama  \ntime                                                  \n2018-01-01 00:00:00         NaN     NaN          NaN  \n2018-01-01 01:00:00         NaN     NaN          NaN  \n2018-01-01 02:00:00         NaN     NaN          NaN  \n2018-01-01 03:00:00         NaN     NaN          NaN  \n2018-01-01 04:00:00         NaN     NaN          NaN  \n...                         ...     ...          ...  \n2020-01-17 00:00:00      303.45     1.0  8694.276865  \n2020-01-17 01:00:00      326.94     1.0  8694.559920  \n2020-01-17 02:00:00      336.38     2.0  8696.557159  \n2020-01-17 03:00:00      341.91     2.0  8700.487646  \n2020-01-17 04:00:00      296.70     5.0  8709.637533  \n\n[17829 rows x 13 columns]",
      "text/html": "<div>\n<style scoped>\n    .dataframe tbody tr th:only-of-type {\n        vertical-align: middle;\n    }\n\n    .dataframe tbody tr th {\n        vertical-align: top;\n    }\n\n    .dataframe thead th {\n        text-align: right;\n    }\n</style>\n<table border=\"1\" class=\"dataframe\">\n  <thead>\n    <tr style=\"text-align: right;\">\n      <th></th>\n      <th>open</th>\n      <th>high</th>\n      <th>low</th>\n      <th>close</th>\n      <th>volume</th>\n      <th>er_den</th>\n      <th>sc</th>\n      <th>kk</th>\n      <th>answer</th>\n      <th>direction</th>\n      <th>volatility</th>\n      <th>period</th>\n      <th>kama</th>\n    </tr>\n    <tr>\n      <th>time</th>\n      <th></th>\n      <th></th>\n      <th></th>\n      <th></th>\n      <th></th>\n      <th></th>\n      <th></th>\n      <th></th>\n      <th></th>\n      <th></th>\n      <th></th>\n      <th></th>\n      <th></th>\n    </tr>\n  </thead>\n  <tbody>\n    <tr>\n      <th>2018-01-01 00:00:00</th>\n      <td>13715.65</td>\n      <td>13715.65</td>\n      <td>13400.01</td>\n      <td>13529.01</td>\n      <td>443.356199</td>\n      <td>NaN</td>\n      <td>NaN</td>\n      <td>0.0</td>\n      <td>NaN</td>\n      <td>NaN</td>\n      <td>NaN</td>\n      <td>NaN</td>\n      <td>NaN</td>\n    </tr>\n    <tr>\n      <th>2018-01-01 01:00:00</th>\n      <td>13528.99</td>\n      <td>13595.89</td>\n      <td>13155.38</td>\n      <td>13203.06</td>\n      <td>383.697006</td>\n      <td>NaN</td>\n      <td>NaN</td>\n      <td>0.0</td>\n      <td>NaN</td>\n      <td>NaN</td>\n      <td>NaN</td>\n      <td>NaN</td>\n      <td>NaN</td>\n    </tr>\n    <tr>\n      <th>2018-01-01 02:00:00</th>\n      <td>13203.00</td>\n      <td>13418.43</td>\n      <td>13200.00</td>\n      <td>13330.18</td>\n      <td>429.064572</td>\n      <td>NaN</td>\n      <td>NaN</td>\n      <td>0.0</td>\n      <td>NaN</td>\n      <td>NaN</td>\n      <td>NaN</td>\n      <td>NaN</td>\n      <td>NaN</td>\n    </tr>\n    <tr>\n      <th>2018-01-01 03:00:00</th>\n      <td>13330.26</td>\n      <td>13611.27</td>\n      <td>13290.00</td>\n      <td>13410.03</td>\n      <td>420.087030</td>\n      <td>NaN</td>\n      <td>NaN</td>\n      <td>0.0</td>\n      <td>NaN</td>\n      <td>NaN</td>\n      <td>NaN</td>\n      <td>NaN</td>\n      <td>NaN</td>\n    </tr>\n    <tr>\n      <th>2018-01-01 04:00:00</th>\n      <td>13434.98</td>\n      <td>13623.29</td>\n      <td>13322.15</td>\n      <td>13601.01</td>\n      <td>340.807329</td>\n      <td>NaN</td>\n      <td>NaN</td>\n      <td>0.0</td>\n      <td>NaN</td>\n      <td>NaN</td>\n      <td>NaN</td>\n      <td>NaN</td>\n      <td>NaN</td>\n    </tr>\n    <tr>\n      <th>...</th>\n      <td>...</td>\n      <td>...</td>\n      <td>...</td>\n      <td>...</td>\n      <td>...</td>\n      <td>...</td>\n      <td>...</td>\n      <td>...</td>\n      <td>...</td>\n      <td>...</td>\n      <td>...</td>\n      <td>...</td>\n      <td>...</td>\n    </tr>\n    <tr>\n      <th>2020-01-17 00:00:00</th>\n      <td>8720.15</td>\n      <td>8743.99</td>\n      <td>8672.44</td>\n      <td>8690.31</td>\n      <td>1988.852577</td>\n      <td>303.45</td>\n      <td>0.015235</td>\n      <td>0.0</td>\n      <td>8694.276865</td>\n      <td>-29.69</td>\n      <td>303.45</td>\n      <td>1.0</td>\n      <td>8694.276865</td>\n    </tr>\n    <tr>\n      <th>2020-01-17 01:00:00</th>\n      <td>8690.25</td>\n      <td>8738.80</td>\n      <td>8677.01</td>\n      <td>8738.51</td>\n      <td>1156.787342</td>\n      <td>326.94</td>\n      <td>0.020770</td>\n      <td>0.0</td>\n      <td>8694.559920</td>\n      <td>43.22</td>\n      <td>326.94</td>\n      <td>1.0</td>\n      <td>8694.559920</td>\n    </tr>\n    <tr>\n      <th>2020-01-17 02:00:00</th>\n      <td>8738.80</td>\n      <td>8780.00</td>\n      <td>8718.16</td>\n      <td>8757.06</td>\n      <td>2083.041074</td>\n      <td>336.38</td>\n      <td>0.036633</td>\n      <td>0.0</td>\n      <td>8696.557159</td>\n      <td>70.88</td>\n      <td>336.38</td>\n      <td>2.0</td>\n      <td>8696.557159</td>\n    </tr>\n    <tr>\n      <th>2020-01-17 03:00:00</th>\n      <td>8757.29</td>\n      <td>8840.40</td>\n      <td>8751.05</td>\n      <td>8786.43</td>\n      <td>3103.062255</td>\n      <td>341.91</td>\n      <td>0.039635</td>\n      <td>0.0</td>\n      <td>8700.487646</td>\n      <td>76.41</td>\n      <td>341.91</td>\n      <td>2.0</td>\n      <td>8700.487646</td>\n    </tr>\n    <tr>\n      <th>2020-01-17 04:00:00</th>\n      <td>8786.43</td>\n      <td>8808.92</td>\n      <td>8760.00</td>\n      <td>8791.05</td>\n      <td>1329.841605</td>\n      <td>296.70</td>\n      <td>0.108963</td>\n      <td>0.0</td>\n      <td>8709.637533</td>\n      <td>130.86</td>\n      <td>296.70</td>\n      <td>5.0</td>\n      <td>8709.637533</td>\n    </tr>\n  </tbody>\n</table>\n<p>17829 rows × 13 columns</p>\n</div>"
     },
     "metadata": {},
     "output_type": "execute_result",
     "execution_count": 73
    }
   ],
   "source": [
    "import pandas as pd\n",
    "def vperiod(data, period):\n",
    "    '''\n",
    "    Formula:\n",
    "      - direction = close - close_period\n",
    "      - volatility = sumN(abs(close - close_n), period)\n",
    "      - efficientcy_ratio = abs(direction / volatility)\n",
    "      - fast = 2 / (fast_period + 1)\n",
    "      - slow = 2 / (slow_period + 1)\n",
    "      - smfactor = squared(efficienty_ratio * (fast - slow) + slow)\n",
    "      - smfactor1 = 1.0  - smfactor\n",
    "    '''\n",
    "    fast_period, slow_period = 2, 30\n",
    "    data['direction'] = data['close'].diff(period)\n",
    "    data['volatility'] = data.close.diff().abs().rolling(period).sum()\n",
    "    efficiency_ratio = data['direction'].abs() / data['volatility']\n",
    "    data['period'] = (efficiency_ratio * period).dropna().astype(int)\n",
    "    fast = 2.0 / (fast_period + 1.0)\n",
    "    slow = 2.0 / (slow_period + 1.0)\n",
    "    sc = (efficiency_ratio * (fast - slow) + slow) ** 2.0\n",
    "    hl2 = (data['high'] + data ['low']) / 2\n",
    "    answer = np.zeros(sc.size)\n",
    "    N = len(answer)\n",
    "    first_value = True\n",
    "    # k = nz(k[1])+(sc*(hl2-nz(k[1])))\n",
    "    for i in range(N):\n",
    "        if sc[i] != sc[i]:\n",
    "            answer[i] = np.nan\n",
    "        else:\n",
    "            if first_value:\n",
    "                answer[i] = df['close'][i]\n",
    "                first_value = False\n",
    "            else:\n",
    "                # answer[i] = answer[i - 1] + sc[i] * (price[i] - answer[i - 1])\n",
    "                answer[i] = answer[i - 1] + sc[i] * (hl2[i] - answer[i - 1])\n",
    "    data['kama'] = answer\n",
    "    \n",
    "period = 12\n",
    "vperiod(df, period)\n",
    "\n",
    "df"
   ],
   "metadata": {
    "collapsed": false,
    "pycharm": {
     "name": "#%%\n",
     "is_executing": false
    }
   }
  },
  {
   "cell_type": "code",
   "execution_count": 84,
   "outputs": [
    {
     "data": {
      "text/plain": "False"
     },
     "metadata": {},
     "output_type": "execute_result",
     "execution_count": 84
    }
   ],
   "source": [
    "df['close'].iloc[1]==df['close'][0]"
   ],
   "metadata": {
    "collapsed": false,
    "pycharm": {
     "name": "#%%\n",
     "is_executing": false
    }
   }
  },
  {
   "cell_type": "code",
   "execution_count": 48,
   "outputs": [
    {
     "data": {
      "text/plain": "'close'"
     },
     "metadata": {},
     "output_type": "execute_result",
     "execution_count": 48
    }
   ],
   "source": [
    "s = df['close']\n",
    "s.name"
   ],
   "metadata": {
    "collapsed": false,
    "pycharm": {
     "name": "#%%\n",
     "is_executing": false
    }
   }
  },
  {
   "cell_type": "code",
   "execution_count": 50,
   "outputs": [
    {
     "traceback": [
      "\u001b[1;31m---------------------------------------------------------------------------\u001b[0m",
      "\u001b[1;31mTypeError\u001b[0m                                 Traceback (most recent call last)",
      "\u001b[1;32m~\\Anaconda3\\envs\\futuremaker\\lib\\site-packages\\pandas\\core\\indexes\\base.py\u001b[0m in \u001b[0;36mget_value\u001b[1;34m(self, series, key)\u001b[0m\n\u001b[0;32m   4735\u001b[0m             \u001b[1;32mtry\u001b[0m\u001b[1;33m:\u001b[0m\u001b[1;33m\u001b[0m\u001b[1;33m\u001b[0m\u001b[0m\n\u001b[1;32m-> 4736\u001b[1;33m                 \u001b[1;32mreturn\u001b[0m \u001b[0mlibindex\u001b[0m\u001b[1;33m.\u001b[0m\u001b[0mget_value_box\u001b[0m\u001b[1;33m(\u001b[0m\u001b[0ms\u001b[0m\u001b[1;33m,\u001b[0m \u001b[0mkey\u001b[0m\u001b[1;33m)\u001b[0m\u001b[1;33m\u001b[0m\u001b[1;33m\u001b[0m\u001b[0m\n\u001b[0m\u001b[0;32m   4737\u001b[0m             \u001b[1;32mexcept\u001b[0m \u001b[0mIndexError\u001b[0m\u001b[1;33m:\u001b[0m\u001b[1;33m\u001b[0m\u001b[1;33m\u001b[0m\u001b[0m\n",
      "\u001b[1;32mpandas/_libs/index.pyx\u001b[0m in \u001b[0;36mpandas._libs.index.get_value_box\u001b[1;34m()\u001b[0m\n",
      "\u001b[1;32mpandas/_libs/index.pyx\u001b[0m in \u001b[0;36mpandas._libs.index.get_value_at\u001b[1;34m()\u001b[0m\n",
      "\u001b[1;32mpandas/_libs/util.pxd\u001b[0m in \u001b[0;36mpandas._libs.util.get_value_at\u001b[1;34m()\u001b[0m\n",
      "\u001b[1;32mpandas/_libs/util.pxd\u001b[0m in \u001b[0;36mpandas._libs.util.validate_indexer\u001b[1;34m()\u001b[0m\n",
      "\u001b[1;31mTypeError\u001b[0m: 'str' object cannot be interpreted as an integer",
      "\nDuring handling of the above exception, another exception occurred:\n",
      "\u001b[1;31mKeyError\u001b[0m                                  Traceback (most recent call last)",
      "\u001b[1;32m~\\Anaconda3\\envs\\futuremaker\\lib\\site-packages\\pandas\\core\\indexes\\datetimes.py\u001b[0m in \u001b[0;36mget_value\u001b[1;34m(self, series, key)\u001b[0m\n\u001b[0;32m    992\u001b[0m         \u001b[1;32mtry\u001b[0m\u001b[1;33m:\u001b[0m\u001b[1;33m\u001b[0m\u001b[1;33m\u001b[0m\u001b[0m\n\u001b[1;32m--> 993\u001b[1;33m             \u001b[1;32mreturn\u001b[0m \u001b[0mcom\u001b[0m\u001b[1;33m.\u001b[0m\u001b[0mmaybe_box\u001b[0m\u001b[1;33m(\u001b[0m\u001b[0mself\u001b[0m\u001b[1;33m,\u001b[0m \u001b[0mIndex\u001b[0m\u001b[1;33m.\u001b[0m\u001b[0mget_value\u001b[0m\u001b[1;33m(\u001b[0m\u001b[0mself\u001b[0m\u001b[1;33m,\u001b[0m \u001b[0mseries\u001b[0m\u001b[1;33m,\u001b[0m \u001b[0mkey\u001b[0m\u001b[1;33m)\u001b[0m\u001b[1;33m,\u001b[0m \u001b[0mseries\u001b[0m\u001b[1;33m,\u001b[0m \u001b[0mkey\u001b[0m\u001b[1;33m)\u001b[0m\u001b[1;33m\u001b[0m\u001b[1;33m\u001b[0m\u001b[0m\n\u001b[0m\u001b[0;32m    994\u001b[0m         \u001b[1;32mexcept\u001b[0m \u001b[0mKeyError\u001b[0m\u001b[1;33m:\u001b[0m\u001b[1;33m\u001b[0m\u001b[1;33m\u001b[0m\u001b[0m\n",
      "\u001b[1;32m~\\Anaconda3\\envs\\futuremaker\\lib\\site-packages\\pandas\\core\\indexes\\base.py\u001b[0m in \u001b[0;36mget_value\u001b[1;34m(self, series, key)\u001b[0m\n\u001b[0;32m   4743\u001b[0m                 \u001b[1;32melse\u001b[0m\u001b[1;33m:\u001b[0m\u001b[1;33m\u001b[0m\u001b[1;33m\u001b[0m\u001b[0m\n\u001b[1;32m-> 4744\u001b[1;33m                     \u001b[1;32mraise\u001b[0m \u001b[0me1\u001b[0m\u001b[1;33m\u001b[0m\u001b[1;33m\u001b[0m\u001b[0m\n\u001b[0m\u001b[0;32m   4745\u001b[0m             \u001b[1;32mexcept\u001b[0m \u001b[0mException\u001b[0m\u001b[1;33m:\u001b[0m  \u001b[1;31m# pragma: no cover\u001b[0m\u001b[1;33m\u001b[0m\u001b[1;33m\u001b[0m\u001b[0m\n",
      "\u001b[1;32m~\\Anaconda3\\envs\\futuremaker\\lib\\site-packages\\pandas\\core\\indexes\\base.py\u001b[0m in \u001b[0;36mget_value\u001b[1;34m(self, series, key)\u001b[0m\n\u001b[0;32m   4729\u001b[0m         \u001b[1;32mtry\u001b[0m\u001b[1;33m:\u001b[0m\u001b[1;33m\u001b[0m\u001b[1;33m\u001b[0m\u001b[0m\n\u001b[1;32m-> 4730\u001b[1;33m             \u001b[1;32mreturn\u001b[0m \u001b[0mself\u001b[0m\u001b[1;33m.\u001b[0m\u001b[0m_engine\u001b[0m\u001b[1;33m.\u001b[0m\u001b[0mget_value\u001b[0m\u001b[1;33m(\u001b[0m\u001b[0ms\u001b[0m\u001b[1;33m,\u001b[0m \u001b[0mk\u001b[0m\u001b[1;33m,\u001b[0m \u001b[0mtz\u001b[0m\u001b[1;33m=\u001b[0m\u001b[0mgetattr\u001b[0m\u001b[1;33m(\u001b[0m\u001b[0mseries\u001b[0m\u001b[1;33m.\u001b[0m\u001b[0mdtype\u001b[0m\u001b[1;33m,\u001b[0m \u001b[1;34m\"tz\"\u001b[0m\u001b[1;33m,\u001b[0m \u001b[1;32mNone\u001b[0m\u001b[1;33m)\u001b[0m\u001b[1;33m)\u001b[0m\u001b[1;33m\u001b[0m\u001b[1;33m\u001b[0m\u001b[0m\n\u001b[0m\u001b[0;32m   4731\u001b[0m         \u001b[1;32mexcept\u001b[0m \u001b[0mKeyError\u001b[0m \u001b[1;32mas\u001b[0m \u001b[0me1\u001b[0m\u001b[1;33m:\u001b[0m\u001b[1;33m\u001b[0m\u001b[1;33m\u001b[0m\u001b[0m\n",
      "\u001b[1;32mpandas/_libs/index.pyx\u001b[0m in \u001b[0;36mpandas._libs.index.IndexEngine.get_value\u001b[1;34m()\u001b[0m\n",
      "\u001b[1;32mpandas/_libs/index.pyx\u001b[0m in \u001b[0;36mpandas._libs.index.IndexEngine.get_value\u001b[1;34m()\u001b[0m\n",
      "\u001b[1;32mpandas/_libs/index.pyx\u001b[0m in \u001b[0;36mpandas._libs.index.DatetimeEngine.get_loc\u001b[1;34m()\u001b[0m\n",
      "\u001b[1;32mpandas/_libs/index.pyx\u001b[0m in \u001b[0;36mpandas._libs.index.DatetimeEngine._date_check_type\u001b[1;34m()\u001b[0m\n",
      "\u001b[1;31mKeyError\u001b[0m: 'vperiod'",
      "\nDuring handling of the above exception, another exception occurred:\n",
      "\u001b[1;31mParserError\u001b[0m                               Traceback (most recent call last)",
      "\u001b[1;32mpandas/_libs/tslibs/conversion.pyx\u001b[0m in \u001b[0;36mpandas._libs.tslibs.conversion.convert_str_to_tsobject\u001b[1;34m()\u001b[0m\n",
      "\u001b[1;32mpandas/_libs/tslibs/parsing.pyx\u001b[0m in \u001b[0;36mpandas._libs.tslibs.parsing.parse_datetime_string\u001b[1;34m()\u001b[0m\n",
      "\u001b[1;32m~\\Anaconda3\\envs\\futuremaker\\lib\\site-packages\\dateutil\\parser\\_parser.py\u001b[0m in \u001b[0;36mparse\u001b[1;34m(timestr, parserinfo, **kwargs)\u001b[0m\n\u001b[0;32m   1373\u001b[0m     \u001b[1;32melse\u001b[0m\u001b[1;33m:\u001b[0m\u001b[1;33m\u001b[0m\u001b[1;33m\u001b[0m\u001b[0m\n\u001b[1;32m-> 1374\u001b[1;33m         \u001b[1;32mreturn\u001b[0m \u001b[0mDEFAULTPARSER\u001b[0m\u001b[1;33m.\u001b[0m\u001b[0mparse\u001b[0m\u001b[1;33m(\u001b[0m\u001b[0mtimestr\u001b[0m\u001b[1;33m,\u001b[0m \u001b[1;33m**\u001b[0m\u001b[0mkwargs\u001b[0m\u001b[1;33m)\u001b[0m\u001b[1;33m\u001b[0m\u001b[1;33m\u001b[0m\u001b[0m\n\u001b[0m\u001b[0;32m   1375\u001b[0m \u001b[1;33m\u001b[0m\u001b[0m\n",
      "\u001b[1;32m~\\Anaconda3\\envs\\futuremaker\\lib\\site-packages\\dateutil\\parser\\_parser.py\u001b[0m in \u001b[0;36mparse\u001b[1;34m(self, timestr, default, ignoretz, tzinfos, **kwargs)\u001b[0m\n\u001b[0;32m    648\u001b[0m         \u001b[1;32mif\u001b[0m \u001b[0mres\u001b[0m \u001b[1;32mis\u001b[0m \u001b[1;32mNone\u001b[0m\u001b[1;33m:\u001b[0m\u001b[1;33m\u001b[0m\u001b[1;33m\u001b[0m\u001b[0m\n\u001b[1;32m--> 649\u001b[1;33m             \u001b[1;32mraise\u001b[0m \u001b[0mParserError\u001b[0m\u001b[1;33m(\u001b[0m\u001b[1;34m\"Unknown string format: %s\"\u001b[0m\u001b[1;33m,\u001b[0m \u001b[0mtimestr\u001b[0m\u001b[1;33m)\u001b[0m\u001b[1;33m\u001b[0m\u001b[1;33m\u001b[0m\u001b[0m\n\u001b[0m\u001b[0;32m    650\u001b[0m \u001b[1;33m\u001b[0m\u001b[0m\n",
      "\u001b[1;31mParserError\u001b[0m: Unknown string format: vperiod",
      "\nDuring handling of the above exception, another exception occurred:\n",
      "\u001b[1;31mValueError\u001b[0m                                Traceback (most recent call last)",
      "\u001b[1;32m~\\Anaconda3\\envs\\futuremaker\\lib\\site-packages\\pandas\\core\\indexes\\datetimes.py\u001b[0m in \u001b[0;36mget_value\u001b[1;34m(self, series, key)\u001b[0m\n\u001b[0;32m   1001\u001b[0m             \u001b[1;32mtry\u001b[0m\u001b[1;33m:\u001b[0m\u001b[1;33m\u001b[0m\u001b[1;33m\u001b[0m\u001b[0m\n\u001b[1;32m-> 1002\u001b[1;33m                 \u001b[1;32mreturn\u001b[0m \u001b[0mself\u001b[0m\u001b[1;33m.\u001b[0m\u001b[0mget_value_maybe_box\u001b[0m\u001b[1;33m(\u001b[0m\u001b[0mseries\u001b[0m\u001b[1;33m,\u001b[0m \u001b[0mkey\u001b[0m\u001b[1;33m)\u001b[0m\u001b[1;33m\u001b[0m\u001b[1;33m\u001b[0m\u001b[0m\n\u001b[0m\u001b[0;32m   1003\u001b[0m             \u001b[1;32mexcept\u001b[0m \u001b[1;33m(\u001b[0m\u001b[0mTypeError\u001b[0m\u001b[1;33m,\u001b[0m \u001b[0mValueError\u001b[0m\u001b[1;33m,\u001b[0m \u001b[0mKeyError\u001b[0m\u001b[1;33m)\u001b[0m\u001b[1;33m:\u001b[0m\u001b[1;33m\u001b[0m\u001b[1;33m\u001b[0m\u001b[0m\n",
      "\u001b[1;32m~\\Anaconda3\\envs\\futuremaker\\lib\\site-packages\\pandas\\core\\indexes\\datetimes.py\u001b[0m in \u001b[0;36mget_value_maybe_box\u001b[1;34m(self, series, key)\u001b[0m\n\u001b[0;32m   1014\u001b[0m         \u001b[1;32melif\u001b[0m \u001b[1;32mnot\u001b[0m \u001b[0misinstance\u001b[0m\u001b[1;33m(\u001b[0m\u001b[0mkey\u001b[0m\u001b[1;33m,\u001b[0m \u001b[0mTimestamp\u001b[0m\u001b[1;33m)\u001b[0m\u001b[1;33m:\u001b[0m\u001b[1;33m\u001b[0m\u001b[1;33m\u001b[0m\u001b[0m\n\u001b[1;32m-> 1015\u001b[1;33m             \u001b[0mkey\u001b[0m \u001b[1;33m=\u001b[0m \u001b[0mTimestamp\u001b[0m\u001b[1;33m(\u001b[0m\u001b[0mkey\u001b[0m\u001b[1;33m)\u001b[0m\u001b[1;33m\u001b[0m\u001b[1;33m\u001b[0m\u001b[0m\n\u001b[0m\u001b[0;32m   1016\u001b[0m         \u001b[0mvalues\u001b[0m \u001b[1;33m=\u001b[0m \u001b[0mself\u001b[0m\u001b[1;33m.\u001b[0m\u001b[0m_engine\u001b[0m\u001b[1;33m.\u001b[0m\u001b[0mget_value\u001b[0m\u001b[1;33m(\u001b[0m\u001b[0mcom\u001b[0m\u001b[1;33m.\u001b[0m\u001b[0mvalues_from_object\u001b[0m\u001b[1;33m(\u001b[0m\u001b[0mseries\u001b[0m\u001b[1;33m)\u001b[0m\u001b[1;33m,\u001b[0m \u001b[0mkey\u001b[0m\u001b[1;33m,\u001b[0m \u001b[0mtz\u001b[0m\u001b[1;33m=\u001b[0m\u001b[0mself\u001b[0m\u001b[1;33m.\u001b[0m\u001b[0mtz\u001b[0m\u001b[1;33m)\u001b[0m\u001b[1;33m\u001b[0m\u001b[1;33m\u001b[0m\u001b[0m\n",
      "\u001b[1;32mpandas/_libs/tslibs/timestamps.pyx\u001b[0m in \u001b[0;36mpandas._libs.tslibs.timestamps.Timestamp.__new__\u001b[1;34m()\u001b[0m\n",
      "\u001b[1;32mpandas/_libs/tslibs/conversion.pyx\u001b[0m in \u001b[0;36mpandas._libs.tslibs.conversion.convert_to_tsobject\u001b[1;34m()\u001b[0m\n",
      "\u001b[1;32mpandas/_libs/tslibs/conversion.pyx\u001b[0m in \u001b[0;36mpandas._libs.tslibs.conversion.convert_str_to_tsobject\u001b[1;34m()\u001b[0m\n",
      "\u001b[1;31mValueError\u001b[0m: could not convert string to Timestamp",
      "\nDuring handling of the above exception, another exception occurred:\n",
      "\u001b[1;31mKeyError\u001b[0m                                  Traceback (most recent call last)",
      "\u001b[1;32m<ipython-input-50-5f65ea2452c4>\u001b[0m in \u001b[0;36m<module>\u001b[1;34m\u001b[0m\n\u001b[1;32m----> 1\u001b[1;33m \u001b[0mdf\u001b[0m\u001b[1;33m[\u001b[0m\u001b[1;34m'close'\u001b[0m\u001b[1;33m]\u001b[0m\u001b[1;33m.\u001b[0m\u001b[0mshift\u001b[0m\u001b[1;33m(\u001b[0m\u001b[0ms\u001b[0m\u001b[1;33m[\u001b[0m\u001b[1;34m'vperiod'\u001b[0m\u001b[1;33m]\u001b[0m\u001b[1;33m)\u001b[0m\u001b[1;33m\u001b[0m\u001b[1;33m\u001b[0m\u001b[0m\n\u001b[0m",
      "\u001b[1;32m~\\Anaconda3\\envs\\futuremaker\\lib\\site-packages\\pandas\\core\\series.py\u001b[0m in \u001b[0;36m__getitem__\u001b[1;34m(self, key)\u001b[0m\n\u001b[0;32m   1069\u001b[0m         \u001b[0mkey\u001b[0m \u001b[1;33m=\u001b[0m \u001b[0mcom\u001b[0m\u001b[1;33m.\u001b[0m\u001b[0mapply_if_callable\u001b[0m\u001b[1;33m(\u001b[0m\u001b[0mkey\u001b[0m\u001b[1;33m,\u001b[0m \u001b[0mself\u001b[0m\u001b[1;33m)\u001b[0m\u001b[1;33m\u001b[0m\u001b[1;33m\u001b[0m\u001b[0m\n\u001b[0;32m   1070\u001b[0m         \u001b[1;32mtry\u001b[0m\u001b[1;33m:\u001b[0m\u001b[1;33m\u001b[0m\u001b[1;33m\u001b[0m\u001b[0m\n\u001b[1;32m-> 1071\u001b[1;33m             \u001b[0mresult\u001b[0m \u001b[1;33m=\u001b[0m \u001b[0mself\u001b[0m\u001b[1;33m.\u001b[0m\u001b[0mindex\u001b[0m\u001b[1;33m.\u001b[0m\u001b[0mget_value\u001b[0m\u001b[1;33m(\u001b[0m\u001b[0mself\u001b[0m\u001b[1;33m,\u001b[0m \u001b[0mkey\u001b[0m\u001b[1;33m)\u001b[0m\u001b[1;33m\u001b[0m\u001b[1;33m\u001b[0m\u001b[0m\n\u001b[0m\u001b[0;32m   1072\u001b[0m \u001b[1;33m\u001b[0m\u001b[0m\n\u001b[0;32m   1073\u001b[0m             \u001b[1;32mif\u001b[0m \u001b[1;32mnot\u001b[0m \u001b[0mis_scalar\u001b[0m\u001b[1;33m(\u001b[0m\u001b[0mresult\u001b[0m\u001b[1;33m)\u001b[0m\u001b[1;33m:\u001b[0m\u001b[1;33m\u001b[0m\u001b[1;33m\u001b[0m\u001b[0m\n",
      "\u001b[1;32m~\\Anaconda3\\envs\\futuremaker\\lib\\site-packages\\pandas\\core\\indexes\\datetimes.py\u001b[0m in \u001b[0;36mget_value\u001b[1;34m(self, series, key)\u001b[0m\n\u001b[0;32m   1002\u001b[0m                 \u001b[1;32mreturn\u001b[0m \u001b[0mself\u001b[0m\u001b[1;33m.\u001b[0m\u001b[0mget_value_maybe_box\u001b[0m\u001b[1;33m(\u001b[0m\u001b[0mseries\u001b[0m\u001b[1;33m,\u001b[0m \u001b[0mkey\u001b[0m\u001b[1;33m)\u001b[0m\u001b[1;33m\u001b[0m\u001b[1;33m\u001b[0m\u001b[0m\n\u001b[0;32m   1003\u001b[0m             \u001b[1;32mexcept\u001b[0m \u001b[1;33m(\u001b[0m\u001b[0mTypeError\u001b[0m\u001b[1;33m,\u001b[0m \u001b[0mValueError\u001b[0m\u001b[1;33m,\u001b[0m \u001b[0mKeyError\u001b[0m\u001b[1;33m)\u001b[0m\u001b[1;33m:\u001b[0m\u001b[1;33m\u001b[0m\u001b[1;33m\u001b[0m\u001b[0m\n\u001b[1;32m-> 1004\u001b[1;33m                 \u001b[1;32mraise\u001b[0m \u001b[0mKeyError\u001b[0m\u001b[1;33m(\u001b[0m\u001b[0mkey\u001b[0m\u001b[1;33m)\u001b[0m\u001b[1;33m\u001b[0m\u001b[1;33m\u001b[0m\u001b[0m\n\u001b[0m\u001b[0;32m   1005\u001b[0m \u001b[1;33m\u001b[0m\u001b[0m\n\u001b[0;32m   1006\u001b[0m     \u001b[1;32mdef\u001b[0m \u001b[0mget_value_maybe_box\u001b[0m\u001b[1;33m(\u001b[0m\u001b[0mself\u001b[0m\u001b[1;33m,\u001b[0m \u001b[0mseries\u001b[0m\u001b[1;33m,\u001b[0m \u001b[0mkey\u001b[0m\u001b[1;33m)\u001b[0m\u001b[1;33m:\u001b[0m\u001b[1;33m\u001b[0m\u001b[1;33m\u001b[0m\u001b[0m\n",
      "\u001b[1;31mKeyError\u001b[0m: 'vperiod'"
     ],
     "ename": "KeyError",
     "evalue": "'vperiod'",
     "output_type": "error"
    }
   ],
   "source": [
    "df['close'].shift(s['period'])"
   ],
   "metadata": {
    "collapsed": false,
    "pycharm": {
     "name": "#%%\n",
     "is_executing": false
    }
   }
  },
  {
   "cell_type": "code",
   "execution_count": null,
   "outputs": [],
   "source": [
    "def vmomentum(x):\n",
    "    return df['close'].shift(x['period'])[x.name]\n",
    "\n",
    "df.dropna(inplace=True)\n",
    "df['vmomentum'] = df.apply(vmomentum, axis=1)\n",
    "df"
   ],
   "metadata": {
    "collapsed": false,
    "pycharm": {
     "name": "#%%\n"
    }
   }
  },
  {
   "cell_type": "code",
   "execution_count": null,
   "outputs": [],
   "source": [
    "import numpy as np\n",
    "\n",
    "df['profit'] = np.where(df.close.shift(1) > df.vmomentum.shift(1), df.close / df.close.shift(1), 1.03 ** (1 / 12)).cumprod()\n"
   ],
   "metadata": {
    "collapsed": false,
    "pycharm": {
     "name": "#%%\n"
    }
   }
  }
 ],
 "metadata": {
  "kernelspec": {
   "display_name": "Python 3",
   "language": "python",
   "name": "python3"
  },
  "language_info": {
   "codemirror_mode": {
    "name": "ipython",
    "version": 3
   },
   "file_extension": ".py",
   "mimetype": "text/x-python",
   "name": "python",
   "nbconvert_exporter": "python",
   "pygments_lexer": "ipython3",
   "version": "3.7.4"
  },
  "pycharm": {
   "stem_cell": {
    "cell_type": "raw",
    "source": [],
    "metadata": {
     "collapsed": false
    }
   }
  }
 },
 "nbformat": 4,
 "nbformat_minor": 1
}