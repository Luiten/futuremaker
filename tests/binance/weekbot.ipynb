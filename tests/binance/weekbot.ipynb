{
 "cells": [
  {
   "cell_type": "code",
   "execution_count": 4,
   "metadata": {
    "collapsed": true,
    "pycharm": {
     "is_executing": false
    }
   },
   "outputs": [
    {
     "name": "stdout",
     "text": [
      "             time      open      high       low     close       Volume  \\\n0      1514764800  13715.65  13715.65  13400.01  13529.01   443.356199   \n1      1514768400  13528.99  13595.89  13155.38  13203.06   383.697006   \n2      1514772000  13203.00  13418.43  13200.00  13330.18   429.064572   \n3      1514775600  13330.26  13611.27  13290.00  13410.03   420.087030   \n4      1514779200  13434.98  13623.29  13322.15  13601.01   340.807329   \n...           ...       ...       ...       ...       ...          ...   \n17824  1579219200   8720.15   8743.99   8672.44   8690.31  1988.852577   \n17825  1579222800   8690.25   8738.80   8677.01   8738.51  1156.787342   \n17826  1579226400   8738.80   8780.00   8718.16   8757.06  2083.041074   \n17827  1579230000   8757.29   8840.40   8751.05   8786.43  3103.062255   \n17828  1579233600   8786.43   8808.92   8760.00   8791.05  1329.841605   \n\n         Volume MA  \n0              NaN  \n1              NaN  \n2              NaN  \n3              NaN  \n4              NaN  \n...            ...  \n17824  1961.387535  \n17825  1938.838579  \n17826  1971.519141  \n17827  2019.843164  \n17828  1965.567532  \n\n[17829 rows x 7 columns]\n"
     ],
     "output_type": "stream"
    }
   ],
   "source": [
    "import pandas as pd\n",
    "df = pd.read_csv('/Users/swsong/Dropbox/2.CandleData/BINANCE_BTCUSDT_60.csv')\n",
    "\n",
    "print(df)"
   ]
  },
  {
   "cell_type": "code",
   "execution_count": null,
   "outputs": [],
   "source": [
    "import datetime\n",
    "datetime.datetime.fromtimestamp()\n"
   ],
   "metadata": {
    "collapsed": false,
    "pycharm": {
     "name": "#%%\n",
     "is_executing": false
    }
   }
  }
 ],
 "metadata": {
  "language_info": {
   "codemirror_mode": {
    "name": "ipython",
    "version": 2
   },
   "file_extension": ".py",
   "mimetype": "text/x-python",
   "name": "python",
   "nbconvert_exporter": "python",
   "pygments_lexer": "ipython2",
   "version": "2.7.6"
  },
  "kernelspec": {
   "name": "python3",
   "language": "python",
   "display_name": "Python 3"
  },
  "pycharm": {
   "stem_cell": {
    "cell_type": "raw",
    "source": [],
    "metadata": {
     "collapsed": false
    }
   }
  }
 },
 "nbformat": 4,
 "nbformat_minor": 0
}